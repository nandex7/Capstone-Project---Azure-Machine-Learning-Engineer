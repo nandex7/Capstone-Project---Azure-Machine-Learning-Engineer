{
 "cells": [
  {
   "cell_type": "markdown",
   "metadata": {},
   "source": [
    "# Hyperparameter Tuning using HyperDrive\n",
    "\n",
    "TODO: Import Dependencies. In the cell below, import all the dependencies that you will need to complete the project."
   ]
  },
  {
   "cell_type": "code",
   "execution_count": 9,
   "metadata": {
    "gather": {
     "logged": 1598531914256
    }
   },
   "outputs": [],
   "source": [
    "from azureml.widgets import RunDetails\n",
    "from azureml.train.sklearn import SKLearn\n",
    "from azureml.train.hyperdrive.run import PrimaryMetricGoal\n",
    "from azureml.train.hyperdrive.policy import BanditPolicy\n",
    "from azureml.train.hyperdrive.sampling import RandomParameterSampling\n",
    "from azureml.train.hyperdrive.runconfig import HyperDriveConfig\n",
    "from azureml.train.hyperdrive.parameter_expressions import uniform,choice\n",
    "from azureml.core.workspace import Workspace\n",
    "#from azureml.core.script_run_config \n",
    "import azureml.core\n",
    "from azureml.core.experiment import Experiment\n",
    "from azureml.core.dataset import Dataset\n"
   ]
  },
  {
   "cell_type": "markdown",
   "metadata": {},
   "source": [
    "## Dataset\n",
    "\n",
    "TODO: Get data. In the cell below, write code to access the data you will be using in this project. Remember that the dataset needs to be external."
   ]
  },
  {
   "cell_type": "code",
   "execution_count": 10,
   "metadata": {
    "gather": {
     "logged": 1598531917374
    },
    "jupyter": {
     "outputs_hidden": false,
     "source_hidden": false
    },
    "nteract": {
     "transient": {
      "deleting": false
     }
    }
   },
   "outputs": [],
   "source": [
    "ws = Workspace.from_config()\n",
    "experiment_name = 'Udacity-exp-p3'\n",
    "\n",
    "experiment=Experiment(ws, experiment_name)"
   ]
  },
  {
   "cell_type": "markdown",
   "metadata": {
    "collapsed": true,
    "gather": {
     "logged": 1598531923519
    },
    "jupyter": {
     "outputs_hidden": false,
     "source_hidden": false
    },
    "nteract": {
     "transient": {
      "deleting": false
     }
    }
   },
   "source": [
    "## Hyperdrive Configuration\n",
    "\n",
    "TODO: Explain the model you are using and the reason for chosing the different hyperparameters, termination policy and config settings."
   ]
  },
  {
   "cell_type": "code",
   "execution_count": 11,
   "metadata": {
    "gather": {
     "logged": 1598544893076
    },
    "jupyter": {
     "outputs_hidden": false,
     "source_hidden": false
    },
    "nteract": {
     "transient": {
      "deleting": false
     }
    }
   },
   "outputs": [
    {
     "output_type": "stream",
     "name": "stderr",
     "text": [
      "'SKLearn' estimator is deprecated. Please use 'ScriptRunConfig' from 'azureml.core.script_run_config' with your own defined environment or the AzureML-Tutorial curated environment.\n"
     ]
    }
   ],
   "source": [
    "\n",
    "# Specify parameter sampler\n",
    "ps = RandomParameterSampling({\n",
    "\t\t'--C':choice(0.01,0.05, 0.1, 0.5,1),\n",
    "\t\t'--max_iter':choice(5, 10, 20, 50, 100)\n",
    "\t}\n",
    ")\n",
    "\n",
    "# Specify a Policy\n",
    "policy = BanditPolicy(evaluation_interval=2\n",
    ",slack_factor=0.1\n",
    ")\n",
    "\n",
    "#if \"training\" not in os.listdir():\n",
    "#    os.mkdir(\"./training\")\n",
    "\n",
    "# Create a SKLearn estimator for use with train.py\n",
    "est = SKLearn(source_directory ='./',entry_script ='train.py', compute_target= 'myCluster')\n",
    "# Create a HyperDriveConfig using the estimator, hyperparameter sampler, and policy.\n",
    "hyperdrive_config = HyperDriveConfig(estimator=est,hyperparameter_sampling=ps, policy=policy,primary_metric_name=\"Accuracy\",primary_metric_goal=PrimaryMetricGoal.MAXIMIZE,max_total_runs= 10, max_concurrent_runs=4)\n"
   ]
  },
  {
   "cell_type": "code",
   "execution_count": 13,
   "metadata": {
    "gather": {
     "logged": 1598544897941
    },
    "jupyter": {
     "outputs_hidden": false,
     "source_hidden": false
    },
    "nteract": {
     "transient": {
      "deleting": false
     }
    }
   },
   "outputs": [
    {
     "output_type": "stream",
     "name": "stderr",
     "text": [
      "WARNING:root:If 'script' has been provided here and a script file name has been specified in 'run_config', 'script' provided in ScriptRunConfig initialization will take precedence.\n",
      "WARNING:urllib3.connectionpool:Connection pool is full, discarding connection: mlstrg138445.blob.core.windows.net\n",
      "WARNING:urllib3.connectionpool:Connection pool is full, discarding connection: mlstrg138445.blob.core.windows.net\n",
      "WARNING:urllib3.connectionpool:Connection pool is full, discarding connection: mlstrg138445.blob.core.windows.net\n",
      "WARNING:urllib3.connectionpool:Connection pool is full, discarding connection: mlstrg138445.blob.core.windows.net\n",
      "WARNING:urllib3.connectionpool:Connection pool is full, discarding connection: mlstrg138445.blob.core.windows.net\n",
      "WARNING:urllib3.connectionpool:Connection pool is full, discarding connection: mlstrg138445.blob.core.windows.net\n",
      "WARNING:urllib3.connectionpool:Connection pool is full, discarding connection: mlstrg138445.blob.core.windows.net\n",
      "WARNING:urllib3.connectionpool:Connection pool is full, discarding connection: mlstrg138445.blob.core.windows.net\n",
      "WARNING:urllib3.connectionpool:Connection pool is full, discarding connection: mlstrg138445.blob.core.windows.net\n",
      "WARNING:urllib3.connectionpool:Connection pool is full, discarding connection: mlstrg138445.blob.core.windows.net\n",
      "WARNING:urllib3.connectionpool:Connection pool is full, discarding connection: mlstrg138445.blob.core.windows.net\n",
      "WARNING:urllib3.connectionpool:Connection pool is full, discarding connection: mlstrg138445.blob.core.windows.net\n",
      "WARNING:urllib3.connectionpool:Connection pool is full, discarding connection: mlstrg138445.blob.core.windows.net\n",
      "WARNING:urllib3.connectionpool:Connection pool is full, discarding connection: mlstrg138445.blob.core.windows.net\n",
      "WARNING:urllib3.connectionpool:Connection pool is full, discarding connection: mlstrg138445.blob.core.windows.net\n",
      "WARNING:urllib3.connectionpool:Connection pool is full, discarding connection: mlstrg138445.blob.core.windows.net\n",
      "WARNING:urllib3.connectionpool:Connection pool is full, discarding connection: mlstrg138445.blob.core.windows.net\n",
      "WARNING:urllib3.connectionpool:Connection pool is full, discarding connection: mlstrg138445.blob.core.windows.net\n",
      "WARNING:urllib3.connectionpool:Connection pool is full, discarding connection: mlstrg138445.blob.core.windows.net\n",
      "WARNING:urllib3.connectionpool:Connection pool is full, discarding connection: mlstrg138445.blob.core.windows.net\n",
      "WARNING:urllib3.connectionpool:Connection pool is full, discarding connection: mlstrg138445.blob.core.windows.net\n",
      "WARNING:urllib3.connectionpool:Connection pool is full, discarding connection: mlstrg138445.blob.core.windows.net\n",
      "WARNING:urllib3.connectionpool:Connection pool is full, discarding connection: mlstrg138445.blob.core.windows.net\n",
      "WARNING:urllib3.connectionpool:Connection pool is full, discarding connection: mlstrg138445.blob.core.windows.net\n",
      "WARNING:urllib3.connectionpool:Connection pool is full, discarding connection: mlstrg138445.blob.core.windows.net\n",
      "WARNING:urllib3.connectionpool:Connection pool is full, discarding connection: mlstrg138445.blob.core.windows.net\n",
      "WARNING:urllib3.connectionpool:Connection pool is full, discarding connection: mlstrg138445.blob.core.windows.net\n",
      "WARNING:urllib3.connectionpool:Connection pool is full, discarding connection: mlstrg138445.blob.core.windows.net\n",
      "WARNING:urllib3.connectionpool:Connection pool is full, discarding connection: mlstrg138445.blob.core.windows.net\n",
      "WARNING:urllib3.connectionpool:Connection pool is full, discarding connection: mlstrg138445.blob.core.windows.net\n",
      "WARNING:urllib3.connectionpool:Connection pool is full, discarding connection: mlstrg138445.blob.core.windows.net\n",
      "WARNING:urllib3.connectionpool:Connection pool is full, discarding connection: mlstrg138445.blob.core.windows.net\n",
      "WARNING:urllib3.connectionpool:Connection pool is full, discarding connection: mlstrg138445.blob.core.windows.net\n"
     ]
    }
   ],
   "source": [
    "#TODO: Submit your experiment\n",
    "hyperdrive = experiment.submit(config=hyperdrive_config)"
   ]
  },
  {
   "cell_type": "markdown",
   "metadata": {
    "collapsed": true,
    "gather": {
     "logged": 1598544898497
    },
    "jupyter": {
     "outputs_hidden": false,
     "source_hidden": false
    },
    "nteract": {
     "transient": {
      "deleting": false
     }
    }
   },
   "source": [
    "## Run Details\n",
    "\n",
    "OPTIONAL: Write about the different models trained and their performance. Why do you think some models did better than others?\n",
    "\n",
    "TODO: In the cell below, use the `RunDetails` widget to show the different experiments."
   ]
  },
  {
   "cell_type": "code",
   "execution_count": null,
   "metadata": {
    "gather": {
     "logged": 1598546648408
    },
    "jupyter": {
     "outputs_hidden": false,
     "source_hidden": false
    },
    "nteract": {
     "transient": {
      "deleting": false
     }
    }
   },
   "outputs": [],
   "source": [
    "RunDetails(hyperdrive).show()\n",
    "hyperdrive.wait_for_completion(show_output=True)"
   ]
  },
  {
   "cell_type": "markdown",
   "metadata": {},
   "source": [
    "## Best Model\n",
    "\n",
    "TODO: In the cell below, get the best model from the hyperdrive experiments and display all the properties of the model."
   ]
  },
  {
   "cell_type": "code",
   "execution_count": null,
   "metadata": {
    "gather": {
     "logged": 1598546650307
    },
    "jupyter": {
     "outputs_hidden": false,
     "source_hidden": false
    },
    "nteract": {
     "transient": {
      "deleting": false
     }
    }
   },
   "outputs": [],
   "source": [
    "import joblib\n",
    "# Get your best run and save the model from that run.\n",
    "\n",
    "### YOUR CODE HERE ###\n",
    "# \n",
    "\n",
    "best_run = hyperdrive.get_best_run_by_primary_metric()\n",
    "best_run_metric = hyperdrive.get_metrics()\n",
    "#Print('Accuracy:', best_run_metric['Accuracy'])\n",
    "best_run_metric "
   ]
  },
  {
   "cell_type": "code",
   "execution_count": null,
   "metadata": {},
   "outputs": [],
   "source": [
    "best_run"
   ]
  },
  {
   "cell_type": "code",
   "execution_count": null,
   "metadata": {},
   "outputs": [],
   "source": [
    "best_run_metric[best_run.id]"
   ]
  },
  {
   "cell_type": "code",
   "execution_count": null,
   "metadata": {
    "gather": {
     "logged": 1598546657829
    },
    "jupyter": {
     "outputs_hidden": false,
     "source_hidden": false
    },
    "nteract": {
     "transient": {
      "deleting": false
     }
    }
   },
   "outputs": [],
   "source": [
    "#TODO: Save the best model"
   ]
  },
  {
   "cell_type": "code",
   "execution_count": null,
   "metadata": {},
   "outputs": [],
   "source": [
    "# register model for future deployment\n",
    "model = best_run.register_model(model_name='hyperdrive_model', model_path='/outputs/model.joblib')"
   ]
  },
  {
   "cell_type": "code",
   "execution_count": null,
   "metadata": {},
   "outputs": [],
   "source": [
    "model.download(target_dir=\"outputs\", exist_ok=True)\n",
    "print('model downloaded')"
   ]
  },
  {
   "cell_type": "code",
   "execution_count": null,
   "metadata": {},
   "outputs": [],
   "source": [
    "# Evaluation of model \n",
    "from train import clean_data\n",
    "from azureml.data.dataset_factory import TabularDatasetFactory\n",
    "\n",
    "factory = TabularDatasetFactory()\n",
    "test_data_path = \"https://raw.githubusercontent.com/KrishnaB22/Azure-ML-Capstone/main/dataset/heart.csv\"\n",
    "test_ds = factory.from_delimited_files(test_data_path)\n",
    "X_test, y_test = clean_data(test_ds)\n",
    "\n",
    "logit_model = joblib.load('outputs/heart-diesease-hyper-model.joblib')\n",
    "\n",
    "print(logit_model.score(X_test, y_test))"
   ]
  },
  {
   "cell_type": "markdown",
   "metadata": {
    "collapsed": true,
    "jupyter": {
     "outputs_hidden": false,
     "source_hidden": false
    },
    "nteract": {
     "transient": {
      "deleting": false
     }
    }
   },
   "source": [
    "## Model Deployment\n",
    "\n",
    "Remember you have to deploy only one of the two models you trained.. Perform the steps in the rest of this notebook only if you wish to deploy this model.\n",
    "\n",
    "TODO: In the cell below, register the model, create an inference config and deploy the model as a web service."
   ]
  },
  {
   "cell_type": "code",
   "execution_count": null,
   "metadata": {},
   "outputs": [],
   "source": []
  },
  {
   "cell_type": "markdown",
   "metadata": {},
   "source": [
    "TODO: In the cell below, send a request to the web service you deployed to test it."
   ]
  },
  {
   "cell_type": "code",
   "execution_count": null,
   "metadata": {},
   "outputs": [],
   "source": []
  },
  {
   "cell_type": "markdown",
   "metadata": {},
   "source": [
    "TODO: In the cell below, print the logs of the web service and delete the service"
   ]
  },
  {
   "cell_type": "code",
   "execution_count": null,
   "metadata": {},
   "outputs": [],
   "source": []
  }
 ],
 "metadata": {
  "kernel_info": {
   "name": "python3-azureml"
  },
  "kernelspec": {
   "display_name": "Python 3",
   "language": "python",
   "name": "python3"
  },
  "language_info": {
   "codemirror_mode": {
    "name": "ipython",
    "version": 3
   },
   "file_extension": ".py",
   "mimetype": "text/x-python",
   "name": "python",
   "nbconvert_exporter": "python",
   "pygments_lexer": "ipython3",
   "version": "3.7.6-final"
  },
  "nteract": {
   "version": "nteract-front-end@1.0.0"
  }
 },
 "nbformat": 4,
 "nbformat_minor": 2
}