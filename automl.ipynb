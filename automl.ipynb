{
  "cells": [
    {
      "cell_type": "markdown",
      "source": [
        "# Automated ML"
      ],
      "metadata": {}
    },
    {
      "cell_type": "code",
      "source": [
        "import logging\n",
        "import os\n",
        "import csv\n",
        "\n",
        "from matplotlib import pyplot as plt\n",
        "import numpy as np\n",
        "import pandas as pd\n",
        "from sklearn import datasets\n",
        "import pkg_resources\n",
        "\n",
        "import azureml.core\n",
        "from azureml.core.experiment import Experiment\n",
        "from azureml.core.workspace import Workspace\n",
        "from azureml.train.automl import AutoMLConfig\n",
        "from azureml.core.dataset import Dataset\n",
        "\n",
        "from azureml.pipeline.steps import AutoMLStep\n",
        "\n",
        "# Check core SDK version number\n",
        "print(\"SDK version:\", azureml.core.VERSION)"
      ],
      "outputs": [
        {
          "output_type": "stream",
          "name": "stdout",
          "text": [
            "SDK version: 1.20.0\n"
          ]
        }
      ],
      "execution_count": 2,
      "metadata": {
        "gather": {
          "logged": 1613134201254
        },
        "jupyter": {
          "outputs_hidden": false,
          "source_hidden": false
        },
        "nteract": {
          "transient": {
            "deleting": false
          }
        }
      }
    },
    {
      "cell_type": "markdown",
      "source": [
        "## Dataset\n",
        "\n",
        "### Overview"
      ],
      "metadata": {}
    },
    {
      "cell_type": "code",
      "source": [
        "ws = Workspace.from_config()\n",
        "\n",
        "# choose a name for experiment\n",
        "experiment_name = 'Udacity-exp-p3'\n",
        "\n",
        "experiment=Experiment(ws, experiment_name)"
      ],
      "outputs": [
        {
          "output_type": "stream",
          "name": "stdout",
          "text": [
            "Performing interactive authentication. Please follow the instructions on the terminal.\n",
            "To sign in, use a web browser to open the page https://microsoft.com/devicelogin and enter the code AZ52J4YUY to authenticate.\n",
            "You have logged in. Now let us find all the subscriptions to which you have access...\n",
            "Interactive authentication successfully completed.\n"
          ]
        }
      ],
      "execution_count": 3,
      "metadata": {
        "gather": {
          "logged": 1613134228563
        },
        "jupyter": {
          "outputs_hidden": false,
          "source_hidden": false
        },
        "nteract": {
          "transient": {
            "deleting": false
          }
        }
      }
    },
    {
      "cell_type": "code",
      "source": [
        "# Try to load the dataset from the Workspace. Otherwise, create it from the file\n",
        "# NOTE: update the key to match the dataset name\n",
        "found = False\n",
        "key = \"Telecom Churn\"\n",
        "description_text = \"Telecom Churn\"\n",
        "\n",
        "if key in ws.datasets.keys(): \n",
        "        found = True\n",
        "        dataset = ws.datasets[key] \n",
        "\n",
        "if not found:\n",
        "        \n",
        "        # Create AML Dataset and register it into Workspace\n",
        "        example_data = 'https://raw.githubusercontent.com/nandex7/Capstone-Project---Azure-Machine-Learning-Engineer/main/data/WA_Fn-UseC_-Telco-Customer-Churn.csv'\n",
        "        dataset = Dataset.Tabular.from_delimited_files(example_data)        \n",
        "        #Register Dataset in Workspace\n",
        "        dataset = dataset.register(workspace=ws,\n",
        "                                   name=key,\n",
        "                                   description=description_text)\n",
        "\n",
        "\n",
        "df = dataset.to_pandas_dataframe()\n",
        "df.describe()"
      ],
      "outputs": [
        {
          "output_type": "execute_result",
          "execution_count": 4,
          "data": {
            "text/plain": "       SeniorCitizen       tenure  MonthlyCharges  TotalCharges\ncount    7043.000000  7043.000000     7043.000000   7032.000000\nmean        0.162147    32.371149       64.761692   2283.300441\nstd         0.368612    24.559481       30.090047   2266.771362\nmin         0.000000     0.000000       18.250000     18.800000\n25%         0.000000     9.000000       35.500000    401.450000\n50%         0.000000    29.000000       70.350000   1397.475000\n75%         0.000000    55.000000       89.850000   3794.737500\nmax         1.000000    72.000000      118.750000   8684.800000",
            "text/html": "<div>\n<style scoped>\n    .dataframe tbody tr th:only-of-type {\n        vertical-align: middle;\n    }\n\n    .dataframe tbody tr th {\n        vertical-align: top;\n    }\n\n    .dataframe thead th {\n        text-align: right;\n    }\n</style>\n<table border=\"1\" class=\"dataframe\">\n  <thead>\n    <tr style=\"text-align: right;\">\n      <th></th>\n      <th>SeniorCitizen</th>\n      <th>tenure</th>\n      <th>MonthlyCharges</th>\n      <th>TotalCharges</th>\n    </tr>\n  </thead>\n  <tbody>\n    <tr>\n      <th>count</th>\n      <td>7043.000000</td>\n      <td>7043.000000</td>\n      <td>7043.000000</td>\n      <td>7032.000000</td>\n    </tr>\n    <tr>\n      <th>mean</th>\n      <td>0.162147</td>\n      <td>32.371149</td>\n      <td>64.761692</td>\n      <td>2283.300441</td>\n    </tr>\n    <tr>\n      <th>std</th>\n      <td>0.368612</td>\n      <td>24.559481</td>\n      <td>30.090047</td>\n      <td>2266.771362</td>\n    </tr>\n    <tr>\n      <th>min</th>\n      <td>0.000000</td>\n      <td>0.000000</td>\n      <td>18.250000</td>\n      <td>18.800000</td>\n    </tr>\n    <tr>\n      <th>25%</th>\n      <td>0.000000</td>\n      <td>9.000000</td>\n      <td>35.500000</td>\n      <td>401.450000</td>\n    </tr>\n    <tr>\n      <th>50%</th>\n      <td>0.000000</td>\n      <td>29.000000</td>\n      <td>70.350000</td>\n      <td>1397.475000</td>\n    </tr>\n    <tr>\n      <th>75%</th>\n      <td>0.000000</td>\n      <td>55.000000</td>\n      <td>89.850000</td>\n      <td>3794.737500</td>\n    </tr>\n    <tr>\n      <th>max</th>\n      <td>1.000000</td>\n      <td>72.000000</td>\n      <td>118.750000</td>\n      <td>8684.800000</td>\n    </tr>\n  </tbody>\n</table>\n</div>"
          },
          "metadata": {}
        }
      ],
      "execution_count": 4,
      "metadata": {
        "gather": {
          "logged": 1613134242794
        }
      }
    },
    {
      "cell_type": "code",
      "source": [
        "dataset.take(5).to_pandas_dataframe()"
      ],
      "outputs": [
        {
          "output_type": "execute_result",
          "execution_count": 5,
          "data": {
            "text/plain": "   customerID  gender  SeniorCitizen  Partner  Dependents  tenure  \\\n0  7590-VHVEG  Female              0     True       False       1   \n1  5575-GNVDE    Male              0    False       False      34   \n2  3668-QPYBK    Male              0    False       False       2   \n3  7795-CFOCW    Male              0    False       False      45   \n4  9237-HQITU  Female              0    False       False       2   \n\n   PhoneService     MultipleLines InternetService OnlineSecurity  ...  \\\n0         False  No phone service             DSL             No  ...   \n1          True                No             DSL            Yes  ...   \n2          True                No             DSL            Yes  ...   \n3         False  No phone service             DSL            Yes  ...   \n4          True                No     Fiber optic             No  ...   \n\n  DeviceProtection TechSupport StreamingTV StreamingMovies        Contract  \\\n0               No          No          No              No  Month-to-month   \n1              Yes          No          No              No        One year   \n2               No          No          No              No  Month-to-month   \n3              Yes         Yes          No              No        One year   \n4               No          No          No              No  Month-to-month   \n\n  PaperlessBilling              PaymentMethod MonthlyCharges  TotalCharges  \\\n0             True           Electronic check          29.85         29.85   \n1            False               Mailed check          56.95       1889.50   \n2             True               Mailed check          53.85        108.15   \n3            False  Bank transfer (automatic)          42.30       1840.75   \n4             True           Electronic check          70.70        151.65   \n\n   Churn  \n0  False  \n1  False  \n2   True  \n3  False  \n4   True  \n\n[5 rows x 21 columns]",
            "text/html": "<div>\n<style scoped>\n    .dataframe tbody tr th:only-of-type {\n        vertical-align: middle;\n    }\n\n    .dataframe tbody tr th {\n        vertical-align: top;\n    }\n\n    .dataframe thead th {\n        text-align: right;\n    }\n</style>\n<table border=\"1\" class=\"dataframe\">\n  <thead>\n    <tr style=\"text-align: right;\">\n      <th></th>\n      <th>customerID</th>\n      <th>gender</th>\n      <th>SeniorCitizen</th>\n      <th>Partner</th>\n      <th>Dependents</th>\n      <th>tenure</th>\n      <th>PhoneService</th>\n      <th>MultipleLines</th>\n      <th>InternetService</th>\n      <th>OnlineSecurity</th>\n      <th>...</th>\n      <th>DeviceProtection</th>\n      <th>TechSupport</th>\n      <th>StreamingTV</th>\n      <th>StreamingMovies</th>\n      <th>Contract</th>\n      <th>PaperlessBilling</th>\n      <th>PaymentMethod</th>\n      <th>MonthlyCharges</th>\n      <th>TotalCharges</th>\n      <th>Churn</th>\n    </tr>\n  </thead>\n  <tbody>\n    <tr>\n      <th>0</th>\n      <td>7590-VHVEG</td>\n      <td>Female</td>\n      <td>0</td>\n      <td>True</td>\n      <td>False</td>\n      <td>1</td>\n      <td>False</td>\n      <td>No phone service</td>\n      <td>DSL</td>\n      <td>No</td>\n      <td>...</td>\n      <td>No</td>\n      <td>No</td>\n      <td>No</td>\n      <td>No</td>\n      <td>Month-to-month</td>\n      <td>True</td>\n      <td>Electronic check</td>\n      <td>29.85</td>\n      <td>29.85</td>\n      <td>False</td>\n    </tr>\n    <tr>\n      <th>1</th>\n      <td>5575-GNVDE</td>\n      <td>Male</td>\n      <td>0</td>\n      <td>False</td>\n      <td>False</td>\n      <td>34</td>\n      <td>True</td>\n      <td>No</td>\n      <td>DSL</td>\n      <td>Yes</td>\n      <td>...</td>\n      <td>Yes</td>\n      <td>No</td>\n      <td>No</td>\n      <td>No</td>\n      <td>One year</td>\n      <td>False</td>\n      <td>Mailed check</td>\n      <td>56.95</td>\n      <td>1889.50</td>\n      <td>False</td>\n    </tr>\n    <tr>\n      <th>2</th>\n      <td>3668-QPYBK</td>\n      <td>Male</td>\n      <td>0</td>\n      <td>False</td>\n      <td>False</td>\n      <td>2</td>\n      <td>True</td>\n      <td>No</td>\n      <td>DSL</td>\n      <td>Yes</td>\n      <td>...</td>\n      <td>No</td>\n      <td>No</td>\n      <td>No</td>\n      <td>No</td>\n      <td>Month-to-month</td>\n      <td>True</td>\n      <td>Mailed check</td>\n      <td>53.85</td>\n      <td>108.15</td>\n      <td>True</td>\n    </tr>\n    <tr>\n      <th>3</th>\n      <td>7795-CFOCW</td>\n      <td>Male</td>\n      <td>0</td>\n      <td>False</td>\n      <td>False</td>\n      <td>45</td>\n      <td>False</td>\n      <td>No phone service</td>\n      <td>DSL</td>\n      <td>Yes</td>\n      <td>...</td>\n      <td>Yes</td>\n      <td>Yes</td>\n      <td>No</td>\n      <td>No</td>\n      <td>One year</td>\n      <td>False</td>\n      <td>Bank transfer (automatic)</td>\n      <td>42.30</td>\n      <td>1840.75</td>\n      <td>False</td>\n    </tr>\n    <tr>\n      <th>4</th>\n      <td>9237-HQITU</td>\n      <td>Female</td>\n      <td>0</td>\n      <td>False</td>\n      <td>False</td>\n      <td>2</td>\n      <td>True</td>\n      <td>No</td>\n      <td>Fiber optic</td>\n      <td>No</td>\n      <td>...</td>\n      <td>No</td>\n      <td>No</td>\n      <td>No</td>\n      <td>No</td>\n      <td>Month-to-month</td>\n      <td>True</td>\n      <td>Electronic check</td>\n      <td>70.70</td>\n      <td>151.65</td>\n      <td>True</td>\n    </tr>\n  </tbody>\n</table>\n<p>5 rows × 21 columns</p>\n</div>"
          },
          "metadata": {}
        }
      ],
      "execution_count": 5,
      "metadata": {
        "gather": {
          "logged": 1613134249422
        }
      }
    },
    {
      "cell_type": "code",
      "source": [
        "from azureml.core.compute import AmlCompute\n",
        "from azureml.core.compute import ComputeTarget\n",
        "from azureml.core.compute_target import ComputeTargetException\n",
        "\n",
        "# NOTE: update the cluster name to match the existing cluster\n",
        "# Choose a name for your CPU cluster\n",
        "amlcompute_cluster_name = \"aml-automl\"\n",
        "# Verify that cluster does not exist already\n",
        "try:\n",
        "    compute_target = ComputeTarget(workspace=ws, name=amlcompute_cluster_name)\n",
        "    print('Found existing cluster, use it.')\n",
        "except ComputeTargetException:\n",
        "    compute_config = AmlCompute.provisioning_configuration(vm_size='STANDARD_D2_V2',# for GPU, use \"STANDARD_NC6\"\n",
        "                                                           #vm_priority = 'lowpriority', # optional\n",
        "                                                           max_nodes=4)\n",
        "    compute_target = ComputeTarget.create(ws, amlcompute_cluster_name, compute_config)\n",
        "\n",
        "compute_target.wait_for_completion(show_output=True, min_node_count = 1, timeout_in_minutes = 3)\n",
        "# For a more detailed view of current AmlCompute status, use get_status()."
      ],
      "outputs": [
        {
          "output_type": "stream",
          "name": "stdout",
          "text": [
            "Found existing cluster, use it.\n",
            "Succeeded...................................\n",
            "AmlCompute wait for completion finished\n",
            "\n",
            "Wait timeout has been reached\n",
            "Current provisioning state of AmlCompute is \"Succeeded\" and current node count is \"0\"\n"
          ]
        }
      ],
      "execution_count": 6,
      "metadata": {
        "gather": {
          "logged": 1613134439794
        }
      }
    },
    {
      "cell_type": "markdown",
      "source": [
        "## AutoML Configuration\n",
        "\n",
        "This creates a general AutoML settings object. These inputs must match what was used when training in the portal. label_column_name has to be y for example."
      ],
      "metadata": {}
    },
    {
      "cell_type": "code",
      "source": [
        "automl_settings = {\n",
        "    \"experiment_timeout_minutes\": 20,\n",
        "    \"max_concurrent_iterations\": 4,\n",
        "    \"primary_metric\" : 'accuracy',\n",
        "    \"n_cross_validations\": 5,\n",
        "    \"featurization\": 'auto'\n",
        "}\n",
        "# TODO: Put your automl config here\n",
        "automl_config = AutoMLConfig(task = \"classification\",\n",
        "                             training_data=dataset,\n",
        "                             compute_target=compute_target,\n",
        "                             label_column_name=\"Churn\",   \n",
        "                             debug_log = \"automl_errors.log\",\n",
        "                             **automl_settings)"
      ],
      "outputs": [],
      "execution_count": 8,
      "metadata": {
        "gather": {
          "logged": 1613135140715
        }
      }
    },
    {
      "cell_type": "code",
      "source": [
        "# TODO: Submit your experiment\n",
        "remote_run = experiment.submit(automl_config)"
      ],
      "outputs": [
        {
          "output_type": "stream",
          "name": "stdout",
          "text": [
            "Running on remote.\n"
          ]
        }
      ],
      "execution_count": 10,
      "metadata": {
        "gather": {
          "logged": 1613135168136
        },
        "jupyter": {
          "outputs_hidden": false,
          "source_hidden": false
        },
        "nteract": {
          "transient": {
            "deleting": false
          }
        }
      }
    },
    {
      "cell_type": "markdown",
      "source": [
        "## Run Details\n",
        "\n",
        "OPTIONAL: Write about the different models trained and their performance. Why do you think some models did better than others?\n",
        "\n",
        "TODO: In the cell below, use the `RunDetails` widget to show the different experiments."
      ],
      "metadata": {}
    },
    {
      "cell_type": "code",
      "source": [
        "\n",
        "from azureml.widgets import RunDetails\n",
        "RunDetails(remote_run).show()\n",
        "remote_run.wait_for_completion(show_output=True)\n",
        "assert(remote_run.get_status() == 'Completed')"
      ],
      "outputs": [
        {
          "output_type": "display_data",
          "data": {
            "text/plain": "_AutoMLWidget(widget_settings={'childWidgetDisplay': 'popup', 'send_telemetry': False, 'log_level': 'INFO', 's…",
            "application/vnd.jupyter.widget-view+json": {
              "version_major": 2,
              "version_minor": 0,
              "model_id": "6a8ea7fb10b7433bb12035cb5567b960"
            }
          },
          "metadata": {}
        },
        {
          "output_type": "display_data",
          "data": {
            "application/aml.mini.widget.v1": "{\"status\": \"Completed\", \"workbench_run_details_uri\": \"https://ml.azure.com/experiments/Udacity-exp-p3/runs/AutoML_225e7448-e7f7-40b2-a650-a845f51ff110?wsid=/subscriptions/d7f39349-a66b-446e-aba6-0053c2cf1c11/resourcegroups/aml-quickstarts-138685/workspaces/quick-starts-ws-138685\", \"run_id\": \"AutoML_225e7448-e7f7-40b2-a650-a845f51ff110\", \"run_properties\": {\"run_id\": \"AutoML_225e7448-e7f7-40b2-a650-a845f51ff110\", \"created_utc\": \"2021-02-12T13:06:05.459734Z\", \"properties\": {\"num_iterations\": \"1000\", \"training_type\": \"TrainFull\", \"acquisition_function\": \"EI\", \"primary_metric\": \"accuracy\", \"train_split\": \"0\", \"acquisition_parameter\": \"0\", \"num_cross_validation\": \"5\", \"target\": \"aml-automl\", \"AMLSettingsJsonString\": \"{\\\"path\\\":null,\\\"name\\\":\\\"Udacity-exp-p3\\\",\\\"subscription_id\\\":\\\"d7f39349-a66b-446e-aba6-0053c2cf1c11\\\",\\\"resource_group\\\":\\\"aml-quickstarts-138685\\\",\\\"workspace_name\\\":\\\"quick-starts-ws-138685\\\",\\\"region\\\":\\\"southcentralus\\\",\\\"compute_target\\\":\\\"aml-automl\\\",\\\"spark_service\\\":null,\\\"azure_service\\\":\\\"remote\\\",\\\"many_models\\\":false,\\\"pipeline_fetch_max_batch_size\\\":1,\\\"iterations\\\":1000,\\\"primary_metric\\\":\\\"accuracy\\\",\\\"task_type\\\":\\\"classification\\\",\\\"data_script\\\":null,\\\"validation_size\\\":0.0,\\\"n_cross_validations\\\":5,\\\"y_min\\\":null,\\\"y_max\\\":null,\\\"num_classes\\\":null,\\\"featurization\\\":\\\"auto\\\",\\\"_ignore_package_version_incompatibilities\\\":false,\\\"is_timeseries\\\":false,\\\"max_cores_per_iteration\\\":1,\\\"max_concurrent_iterations\\\":4,\\\"iteration_timeout_minutes\\\":null,\\\"mem_in_mb\\\":null,\\\"enforce_time_on_windows\\\":false,\\\"experiment_timeout_minutes\\\":20,\\\"experiment_exit_score\\\":null,\\\"whitelist_models\\\":null,\\\"blacklist_algos\\\":[\\\"TensorFlowLinearClassifier\\\",\\\"TensorFlowDNN\\\"],\\\"supported_models\\\":[\\\"SVM\\\",\\\"TensorFlowLinearClassifier\\\",\\\"KNN\\\",\\\"LogisticRegression\\\",\\\"MultinomialNaiveBayes\\\",\\\"XGBoostClassifier\\\",\\\"AveragedPerceptronClassifier\\\",\\\"TensorFlowDNN\\\",\\\"GradientBoosting\\\",\\\"DecisionTree\\\",\\\"ExtremeRandomTrees\\\",\\\"LightGBM\\\",\\\"LinearSVM\\\",\\\"RandomForest\\\",\\\"BernoulliNaiveBayes\\\",\\\"SGD\\\"],\\\"auto_blacklist\\\":true,\\\"blacklist_samples_reached\\\":false,\\\"exclude_nan_labels\\\":true,\\\"verbosity\\\":20,\\\"_debug_log\\\":\\\"azureml_automl.log\\\",\\\"show_warnings\\\":false,\\\"model_explainability\\\":true,\\\"service_url\\\":null,\\\"sdk_url\\\":null,\\\"sdk_packages\\\":null,\\\"enable_onnx_compatible_models\\\":false,\\\"enable_split_onnx_featurizer_estimator_models\\\":false,\\\"vm_type\\\":\\\"STANDARD_D2_V2\\\",\\\"telemetry_verbosity\\\":20,\\\"send_telemetry\\\":true,\\\"enable_dnn\\\":false,\\\"scenario\\\":\\\"SDK-1.13.0\\\",\\\"environment_label\\\":null,\\\"force_text_dnn\\\":false,\\\"enable_feature_sweeping\\\":true,\\\"enable_early_stopping\\\":false,\\\"early_stopping_n_iters\\\":10,\\\"metrics\\\":null,\\\"enable_ensembling\\\":true,\\\"enable_stack_ensembling\\\":true,\\\"ensemble_iterations\\\":15,\\\"enable_tf\\\":false,\\\"enable_subsampling\\\":null,\\\"subsample_seed\\\":null,\\\"enable_nimbusml\\\":false,\\\"enable_streaming\\\":false,\\\"force_streaming\\\":false,\\\"track_child_runs\\\":true,\\\"allowed_private_models\\\":[],\\\"label_column_name\\\":\\\"Churn\\\",\\\"weight_column_name\\\":null,\\\"cv_split_column_names\\\":null,\\\"enable_local_managed\\\":false,\\\"_local_managed_run_id\\\":null,\\\"cost_mode\\\":1,\\\"lag_length\\\":0,\\\"metric_operation\\\":\\\"maximize\\\",\\\"preprocess\\\":true}\", \"DataPrepJsonString\": \"{\\\\\\\"training_data\\\\\\\": \\\\\\\"{\\\\\\\\\\\\\\\"blocks\\\\\\\\\\\\\\\": [{\\\\\\\\\\\\\\\"id\\\\\\\\\\\\\\\": \\\\\\\\\\\\\\\"e3bee192-86f5-48ac-b852-a336cee20f6c\\\\\\\\\\\\\\\", \\\\\\\\\\\\\\\"type\\\\\\\\\\\\\\\": \\\\\\\\\\\\\\\"Microsoft.DPrep.GetFilesBlock\\\\\\\\\\\\\\\", \\\\\\\\\\\\\\\"arguments\\\\\\\\\\\\\\\": {\\\\\\\\\\\\\\\"isArchive\\\\\\\\\\\\\\\": false, \\\\\\\\\\\\\\\"path\\\\\\\\\\\\\\\": {\\\\\\\\\\\\\\\"target\\\\\\\\\\\\\\\": 4, \\\\\\\\\\\\\\\"resourceDetails\\\\\\\\\\\\\\\": [{\\\\\\\\\\\\\\\"path\\\\\\\\\\\\\\\": \\\\\\\\\\\\\\\"https://raw.githubusercontent.com/nandex7/Capstone-Project---Azure-Machine-Learning-Engineer/main/data/WA_Fn-UseC_-Telco-Customer-Churn.csv\\\\\\\\\\\\\\\"}]}}, \\\\\\\\\\\\\\\"localData\\\\\\\\\\\\\\\": {}, \\\\\\\\\\\\\\\"isEnabled\\\\\\\\\\\\\\\": true, \\\\\\\\\\\\\\\"name\\\\\\\\\\\\\\\": null, \\\\\\\\\\\\\\\"annotation\\\\\\\\\\\\\\\": null}, {\\\\\\\\\\\\\\\"id\\\\\\\\\\\\\\\": \\\\\\\\\\\\\\\"e40c29d3-d8a8-4a9b-ad00-50eb64d872b7\\\\\\\\\\\\\\\", \\\\\\\\\\\\\\\"type\\\\\\\\\\\\\\\": \\\\\\\\\\\\\\\"Microsoft.DPrep.ParseDelimitedBlock\\\\\\\\\\\\\\\", \\\\\\\\\\\\\\\"arguments\\\\\\\\\\\\\\\": {\\\\\\\\\\\\\\\"columnHeadersMode\\\\\\\\\\\\\\\": 3, \\\\\\\\\\\\\\\"fileEncoding\\\\\\\\\\\\\\\": 0, \\\\\\\\\\\\\\\"handleQuotedLineBreaks\\\\\\\\\\\\\\\": false, \\\\\\\\\\\\\\\"preview\\\\\\\\\\\\\\\": false, \\\\\\\\\\\\\\\"separator\\\\\\\\\\\\\\\": \\\\\\\\\\\\\\\",\\\\\\\\\\\\\\\", \\\\\\\\\\\\\\\"skipRows\\\\\\\\\\\\\\\": 0, \\\\\\\\\\\\\\\"skipRowsMode\\\\\\\\\\\\\\\": 0}, \\\\\\\\\\\\\\\"localData\\\\\\\\\\\\\\\": {}, \\\\\\\\\\\\\\\"isEnabled\\\\\\\\\\\\\\\": true, \\\\\\\\\\\\\\\"name\\\\\\\\\\\\\\\": null, \\\\\\\\\\\\\\\"annotation\\\\\\\\\\\\\\\": null}, {\\\\\\\\\\\\\\\"id\\\\\\\\\\\\\\\": \\\\\\\\\\\\\\\"94182938-cfde-4d5e-a75c-9689225cbf05\\\\\\\\\\\\\\\", \\\\\\\\\\\\\\\"type\\\\\\\\\\\\\\\": \\\\\\\\\\\\\\\"Microsoft.DPrep.DropColumnsBlock\\\\\\\\\\\\\\\", \\\\\\\\\\\\\\\"arguments\\\\\\\\\\\\\\\": {\\\\\\\\\\\\\\\"columns\\\\\\\\\\\\\\\": {\\\\\\\\\\\\\\\"type\\\\\\\\\\\\\\\": 0, \\\\\\\\\\\\\\\"details\\\\\\\\\\\\\\\": {\\\\\\\\\\\\\\\"selectedColumns\\\\\\\\\\\\\\\": [\\\\\\\\\\\\\\\"Path\\\\\\\\\\\\\\\"]}}}, \\\\\\\\\\\\\\\"localData\\\\\\\\\\\\\\\": {}, \\\\\\\\\\\\\\\"isEnabled\\\\\\\\\\\\\\\": true, \\\\\\\\\\\\\\\"name\\\\\\\\\\\\\\\": null, \\\\\\\\\\\\\\\"annotation\\\\\\\\\\\\\\\": null}, {\\\\\\\\\\\\\\\"id\\\\\\\\\\\\\\\": \\\\\\\\\\\\\\\"197be857-cd37-42b9-af0b-8c391dcf7967\\\\\\\\\\\\\\\", \\\\\\\\\\\\\\\"type\\\\\\\\\\\\\\\": \\\\\\\\\\\\\\\"Microsoft.DPrep.SetColumnTypesBlock\\\\\\\\\\\\\\\", \\\\\\\\\\\\\\\"arguments\\\\\\\\\\\\\\\": {\\\\\\\\\\\\\\\"columnConversion\\\\\\\\\\\\\\\": [{\\\\\\\\\\\\\\\"column\\\\\\\\\\\\\\\": {\\\\\\\\\\\\\\\"type\\\\\\\\\\\\\\\": 2, \\\\\\\\\\\\\\\"details\\\\\\\\\\\\\\\": {\\\\\\\\\\\\\\\"selectedColumn\\\\\\\\\\\\\\\": \\\\\\\\\\\\\\\"customerID\\\\\\\\\\\\\\\"}}, \\\\\\\\\\\\\\\"typeProperty\\\\\\\\\\\\\\\": 0}, {\\\\\\\\\\\\\\\"column\\\\\\\\\\\\\\\": {\\\\\\\\\\\\\\\"type\\\\\\\\\\\\\\\": 2, \\\\\\\\\\\\\\\"details\\\\\\\\\\\\\\\": {\\\\\\\\\\\\\\\"selectedColumn\\\\\\\\\\\\\\\": \\\\\\\\\\\\\\\"gender\\\\\\\\\\\\\\\"}}, \\\\\\\\\\\\\\\"typeProperty\\\\\\\\\\\\\\\": 0}, {\\\\\\\\\\\\\\\"column\\\\\\\\\\\\\\\": {\\\\\\\\\\\\\\\"type\\\\\\\\\\\\\\\": 2, \\\\\\\\\\\\\\\"details\\\\\\\\\\\\\\\": {\\\\\\\\\\\\\\\"selectedColumn\\\\\\\\\\\\\\\": \\\\\\\\\\\\\\\"SeniorCitizen\\\\\\\\\\\\\\\"}}, \\\\\\\\\\\\\\\"typeProperty\\\\\\\\\\\\\\\": 2}, {\\\\\\\\\\\\\\\"column\\\\\\\\\\\\\\\": {\\\\\\\\\\\\\\\"type\\\\\\\\\\\\\\\": 2, \\\\\\\\\\\\\\\"details\\\\\\\\\\\\\\\": {\\\\\\\\\\\\\\\"selectedColumn\\\\\\\\\\\\\\\": \\\\\\\\\\\\\\\"Partner\\\\\\\\\\\\\\\"}}, \\\\\\\\\\\\\\\"typeProperty\\\\\\\\\\\\\\\": 1}, {\\\\\\\\\\\\\\\"column\\\\\\\\\\\\\\\": {\\\\\\\\\\\\\\\"type\\\\\\\\\\\\\\\": 2, \\\\\\\\\\\\\\\"details\\\\\\\\\\\\\\\": {\\\\\\\\\\\\\\\"selectedColumn\\\\\\\\\\\\\\\": \\\\\\\\\\\\\\\"Dependents\\\\\\\\\\\\\\\"}}, \\\\\\\\\\\\\\\"typeProperty\\\\\\\\\\\\\\\": 1}, {\\\\\\\\\\\\\\\"column\\\\\\\\\\\\\\\": {\\\\\\\\\\\\\\\"type\\\\\\\\\\\\\\\": 2, \\\\\\\\\\\\\\\"details\\\\\\\\\\\\\\\": {\\\\\\\\\\\\\\\"selectedColumn\\\\\\\\\\\\\\\": \\\\\\\\\\\\\\\"tenure\\\\\\\\\\\\\\\"}}, \\\\\\\\\\\\\\\"typeProperty\\\\\\\\\\\\\\\": 2}, {\\\\\\\\\\\\\\\"column\\\\\\\\\\\\\\\": {\\\\\\\\\\\\\\\"type\\\\\\\\\\\\\\\": 2, \\\\\\\\\\\\\\\"details\\\\\\\\\\\\\\\": {\\\\\\\\\\\\\\\"selectedColumn\\\\\\\\\\\\\\\": \\\\\\\\\\\\\\\"PhoneService\\\\\\\\\\\\\\\"}}, \\\\\\\\\\\\\\\"typeProperty\\\\\\\\\\\\\\\": 1}, {\\\\\\\\\\\\\\\"column\\\\\\\\\\\\\\\": {\\\\\\\\\\\\\\\"type\\\\\\\\\\\\\\\": 2, \\\\\\\\\\\\\\\"details\\\\\\\\\\\\\\\": {\\\\\\\\\\\\\\\"selectedColumn\\\\\\\\\\\\\\\": \\\\\\\\\\\\\\\"MultipleLines\\\\\\\\\\\\\\\"}}, \\\\\\\\\\\\\\\"typeProperty\\\\\\\\\\\\\\\": 0}, {\\\\\\\\\\\\\\\"column\\\\\\\\\\\\\\\": {\\\\\\\\\\\\\\\"type\\\\\\\\\\\\\\\": 2, \\\\\\\\\\\\\\\"details\\\\\\\\\\\\\\\": {\\\\\\\\\\\\\\\"selectedColumn\\\\\\\\\\\\\\\": \\\\\\\\\\\\\\\"InternetService\\\\\\\\\\\\\\\"}}, \\\\\\\\\\\\\\\"typeProperty\\\\\\\\\\\\\\\": 0}, {\\\\\\\\\\\\\\\"column\\\\\\\\\\\\\\\": {\\\\\\\\\\\\\\\"type\\\\\\\\\\\\\\\": 2, \\\\\\\\\\\\\\\"details\\\\\\\\\\\\\\\": {\\\\\\\\\\\\\\\"selectedColumn\\\\\\\\\\\\\\\": \\\\\\\\\\\\\\\"OnlineSecurity\\\\\\\\\\\\\\\"}}, \\\\\\\\\\\\\\\"typeProperty\\\\\\\\\\\\\\\": 0}, {\\\\\\\\\\\\\\\"column\\\\\\\\\\\\\\\": {\\\\\\\\\\\\\\\"type\\\\\\\\\\\\\\\": 2, \\\\\\\\\\\\\\\"details\\\\\\\\\\\\\\\": {\\\\\\\\\\\\\\\"selectedColumn\\\\\\\\\\\\\\\": \\\\\\\\\\\\\\\"OnlineBackup\\\\\\\\\\\\\\\"}}, \\\\\\\\\\\\\\\"typeProperty\\\\\\\\\\\\\\\": 0}, {\\\\\\\\\\\\\\\"column\\\\\\\\\\\\\\\": {\\\\\\\\\\\\\\\"type\\\\\\\\\\\\\\\": 2, \\\\\\\\\\\\\\\"details\\\\\\\\\\\\\\\": {\\\\\\\\\\\\\\\"selectedColumn\\\\\\\\\\\\\\\": \\\\\\\\\\\\\\\"DeviceProtection\\\\\\\\\\\\\\\"}}, \\\\\\\\\\\\\\\"typeProperty\\\\\\\\\\\\\\\": 0}, {\\\\\\\\\\\\\\\"column\\\\\\\\\\\\\\\": {\\\\\\\\\\\\\\\"type\\\\\\\\\\\\\\\": 2, \\\\\\\\\\\\\\\"details\\\\\\\\\\\\\\\": {\\\\\\\\\\\\\\\"selectedColumn\\\\\\\\\\\\\\\": \\\\\\\\\\\\\\\"TechSupport\\\\\\\\\\\\\\\"}}, \\\\\\\\\\\\\\\"typeProperty\\\\\\\\\\\\\\\": 0}, {\\\\\\\\\\\\\\\"column\\\\\\\\\\\\\\\": {\\\\\\\\\\\\\\\"type\\\\\\\\\\\\\\\": 2, \\\\\\\\\\\\\\\"details\\\\\\\\\\\\\\\": {\\\\\\\\\\\\\\\"selectedColumn\\\\\\\\\\\\\\\": \\\\\\\\\\\\\\\"StreamingTV\\\\\\\\\\\\\\\"}}, \\\\\\\\\\\\\\\"typeProperty\\\\\\\\\\\\\\\": 0}, {\\\\\\\\\\\\\\\"column\\\\\\\\\\\\\\\": {\\\\\\\\\\\\\\\"type\\\\\\\\\\\\\\\": 2, \\\\\\\\\\\\\\\"details\\\\\\\\\\\\\\\": {\\\\\\\\\\\\\\\"selectedColumn\\\\\\\\\\\\\\\": \\\\\\\\\\\\\\\"StreamingMovies\\\\\\\\\\\\\\\"}}, \\\\\\\\\\\\\\\"typeProperty\\\\\\\\\\\\\\\": 0}, {\\\\\\\\\\\\\\\"column\\\\\\\\\\\\\\\": {\\\\\\\\\\\\\\\"type\\\\\\\\\\\\\\\": 2, \\\\\\\\\\\\\\\"details\\\\\\\\\\\\\\\": {\\\\\\\\\\\\\\\"selectedColumn\\\\\\\\\\\\\\\": \\\\\\\\\\\\\\\"Contract\\\\\\\\\\\\\\\"}}, \\\\\\\\\\\\\\\"typeProperty\\\\\\\\\\\\\\\": 0}, {\\\\\\\\\\\\\\\"column\\\\\\\\\\\\\\\": {\\\\\\\\\\\\\\\"type\\\\\\\\\\\\\\\": 2, \\\\\\\\\\\\\\\"details\\\\\\\\\\\\\\\": {\\\\\\\\\\\\\\\"selectedColumn\\\\\\\\\\\\\\\": \\\\\\\\\\\\\\\"PaperlessBilling\\\\\\\\\\\\\\\"}}, \\\\\\\\\\\\\\\"typeProperty\\\\\\\\\\\\\\\": 1}, {\\\\\\\\\\\\\\\"column\\\\\\\\\\\\\\\": {\\\\\\\\\\\\\\\"type\\\\\\\\\\\\\\\": 2, \\\\\\\\\\\\\\\"details\\\\\\\\\\\\\\\": {\\\\\\\\\\\\\\\"selectedColumn\\\\\\\\\\\\\\\": \\\\\\\\\\\\\\\"PaymentMethod\\\\\\\\\\\\\\\"}}, \\\\\\\\\\\\\\\"typeProperty\\\\\\\\\\\\\\\": 0}, {\\\\\\\\\\\\\\\"column\\\\\\\\\\\\\\\": {\\\\\\\\\\\\\\\"type\\\\\\\\\\\\\\\": 2, \\\\\\\\\\\\\\\"details\\\\\\\\\\\\\\\": {\\\\\\\\\\\\\\\"selectedColumn\\\\\\\\\\\\\\\": \\\\\\\\\\\\\\\"MonthlyCharges\\\\\\\\\\\\\\\"}}, \\\\\\\\\\\\\\\"typeProperty\\\\\\\\\\\\\\\": 3}, {\\\\\\\\\\\\\\\"column\\\\\\\\\\\\\\\": {\\\\\\\\\\\\\\\"type\\\\\\\\\\\\\\\": 2, \\\\\\\\\\\\\\\"details\\\\\\\\\\\\\\\": {\\\\\\\\\\\\\\\"selectedColumn\\\\\\\\\\\\\\\": \\\\\\\\\\\\\\\"TotalCharges\\\\\\\\\\\\\\\"}}, \\\\\\\\\\\\\\\"typeProperty\\\\\\\\\\\\\\\": 3}, {\\\\\\\\\\\\\\\"column\\\\\\\\\\\\\\\": {\\\\\\\\\\\\\\\"type\\\\\\\\\\\\\\\": 2, \\\\\\\\\\\\\\\"details\\\\\\\\\\\\\\\": {\\\\\\\\\\\\\\\"selectedColumn\\\\\\\\\\\\\\\": \\\\\\\\\\\\\\\"Churn\\\\\\\\\\\\\\\"}}, \\\\\\\\\\\\\\\"typeProperty\\\\\\\\\\\\\\\": 1}]}, \\\\\\\\\\\\\\\"localData\\\\\\\\\\\\\\\": {}, \\\\\\\\\\\\\\\"isEnabled\\\\\\\\\\\\\\\": true, \\\\\\\\\\\\\\\"name\\\\\\\\\\\\\\\": null, \\\\\\\\\\\\\\\"annotation\\\\\\\\\\\\\\\": null}], \\\\\\\\\\\\\\\"inspectors\\\\\\\\\\\\\\\": [], \\\\\\\\\\\\\\\"meta\\\\\\\\\\\\\\\": {\\\\\\\\\\\\\\\"savedDatasetId\\\\\\\\\\\\\\\": \\\\\\\\\\\\\\\"c804a97a-c964-4c91-a30f-82a79ee81e71\\\\\\\\\\\\\\\", \\\\\\\\\\\\\\\"datasetType\\\\\\\\\\\\\\\": \\\\\\\\\\\\\\\"tabular\\\\\\\\\\\\\\\", \\\\\\\\\\\\\\\"subscriptionId\\\\\\\\\\\\\\\": \\\\\\\\\\\\\\\"d7f39349-a66b-446e-aba6-0053c2cf1c11\\\\\\\\\\\\\\\", \\\\\\\\\\\\\\\"workspaceId\\\\\\\\\\\\\\\": \\\\\\\\\\\\\\\"2cf6df6c-656c-42bf-bdd8-bc9d04f36c82\\\\\\\\\\\\\\\", \\\\\\\\\\\\\\\"workspaceLocation\\\\\\\\\\\\\\\": \\\\\\\\\\\\\\\"southcentralus\\\\\\\\\\\\\\\"}}\\\\\\\", \\\\\\\"activities\\\\\\\": 0}\", \"EnableSubsampling\": null, \"runTemplate\": \"AutoML\", \"azureml.runsource\": \"automl\", \"display_task_type\": \"classification\", \"dependencies_versions\": \"{\\\"azureml-widgets\\\": \\\"1.20.0\\\", \\\"azureml-train\\\": \\\"1.20.0\\\", \\\"azureml-train-restclients-hyperdrive\\\": \\\"1.20.0\\\", \\\"azureml-train-core\\\": \\\"1.20.0\\\", \\\"azureml-train-automl\\\": \\\"1.20.0\\\", \\\"azureml-train-automl-runtime\\\": \\\"1.20.0\\\", \\\"azureml-train-automl-client\\\": \\\"1.20.0\\\", \\\"azureml-tensorboard\\\": \\\"1.20.0\\\", \\\"azureml-telemetry\\\": \\\"1.20.0\\\", \\\"azureml-sdk\\\": \\\"1.20.0\\\", \\\"azureml-samples\\\": \\\"0+unknown\\\", \\\"azureml-pipeline\\\": \\\"1.20.0\\\", \\\"azureml-pipeline-steps\\\": \\\"1.20.0\\\", \\\"azureml-pipeline-core\\\": \\\"1.20.0\\\", \\\"azureml-opendatasets\\\": \\\"1.20.0\\\", \\\"azureml-model-management-sdk\\\": \\\"1.0.1b6.post1\\\", \\\"azureml-mlflow\\\": \\\"1.20.0.post1\\\", \\\"azureml-interpret\\\": \\\"1.20.0\\\", \\\"azureml-explain-model\\\": \\\"1.20.0\\\", \\\"azureml-defaults\\\": \\\"1.20.0\\\", \\\"azureml-dataset-runtime\\\": \\\"1.20.0\\\", \\\"azureml-dataprep\\\": \\\"2.7.3\\\", \\\"azureml-dataprep-rslex\\\": \\\"1.5.0\\\", \\\"azureml-dataprep-native\\\": \\\"27.0.0\\\", \\\"azureml-datadrift\\\": \\\"1.20.0\\\", \\\"azureml-core\\\": \\\"1.20.0\\\", \\\"azureml-contrib-services\\\": \\\"1.20.0\\\", \\\"azureml-contrib-server\\\": \\\"1.20.0\\\", \\\"azureml-contrib-reinforcementlearning\\\": \\\"1.20.0\\\", \\\"azureml-contrib-pipeline-steps\\\": \\\"1.20.0\\\", \\\"azureml-contrib-notebook\\\": \\\"1.20.0\\\", \\\"azureml-contrib-interpret\\\": \\\"1.20.0\\\", \\\"azureml-contrib-gbdt\\\": \\\"1.20.0\\\", \\\"azureml-contrib-fairness\\\": \\\"1.20.0\\\", \\\"azureml-contrib-dataset\\\": \\\"1.20.0\\\", \\\"azureml-cli-common\\\": \\\"1.20.0\\\", \\\"azureml-automl-runtime\\\": \\\"1.20.0\\\", \\\"azureml-automl-core\\\": \\\"1.20.0\\\", \\\"azureml-accel-models\\\": \\\"1.20.0\\\"}\", \"_aml_system_scenario_identification\": \"Remote.Parent\", \"ClientType\": \"SDK\", \"environment_cpu_name\": \"AzureML-AutoML\", \"environment_cpu_label\": \"prod\", \"environment_gpu_name\": \"AzureML-AutoML-GPU\", \"environment_gpu_label\": \"prod\", \"root_attribution\": \"automl\", \"attribution\": \"AutoML\", \"Orchestrator\": \"AutoML\", \"CancelUri\": \"https://southcentralus.experiments.azureml.net/jasmine/v1.0/subscriptions/d7f39349-a66b-446e-aba6-0053c2cf1c11/resourceGroups/aml-quickstarts-138685/providers/Microsoft.MachineLearningServices/workspaces/quick-starts-ws-138685/experimentids/405df8c8-5fdb-43ae-89ad-528def287901/cancel/AutoML_225e7448-e7f7-40b2-a650-a845f51ff110\", \"azureml.git.repository_uri\": \"https://github.com/nandex7/Capstone-Project---Azure-Machine-Learning-Engineer.git\", \"mlflow.source.git.repoURL\": \"https://github.com/nandex7/Capstone-Project---Azure-Machine-Learning-Engineer.git\", \"azureml.git.branch\": \"main\", \"mlflow.source.git.branch\": \"main\", \"azureml.git.commit\": \"88fdb2e062850e7346babd0f9a6907a47f257a72\", \"mlflow.source.git.commit\": \"88fdb2e062850e7346babd0f9a6907a47f257a72\", \"azureml.git.dirty\": \"True\", \"ClientSdkVersion\": \"1.21.0\", \"snapshotId\": \"00000000-0000-0000-0000-000000000000\", \"SetupRunId\": \"AutoML_225e7448-e7f7-40b2-a650-a845f51ff110_setup\", \"SetupRunContainerId\": \"dcid.AutoML_225e7448-e7f7-40b2-a650-a845f51ff110_setup\", \"FeaturizationRunJsonPath\": \"featurizer_container.json\", \"FeaturizationRunId\": \"AutoML_225e7448-e7f7-40b2-a650-a845f51ff110_featurize\", \"ProblemInfoJsonString\": \"{\\\"dataset_num_categorical\\\": 0, \\\"is_sparse\\\": true, \\\"subsampling\\\": false, \\\"dataset_classes\\\": 2, \\\"dataset_features\\\": 40, \\\"dataset_samples\\\": 7043, \\\"single_frequency_class_detected\\\": false}\", \"ModelExplainRunId\": \"AutoML_225e7448-e7f7-40b2-a650-a845f51ff110_ModelExplain\"}, \"tags\": {\"model_explain_run\": \"best_run\", \"_aml_system_azureml.automlComponent\": \"AutoML\", \"pipeline_id\": \"\", \"score\": \"\", \"predicted_cost\": \"\", \"fit_time\": \"\", \"training_percent\": \"\", \"iteration\": \"\", \"run_preprocessor\": \"\", \"run_algorithm\": \"\", \"automl_best_child_run_id\": \"AutoML_225e7448-e7f7-40b2-a650-a845f51ff110_21\", \"model_explain_best_run_child_id\": \"AutoML_225e7448-e7f7-40b2-a650-a845f51ff110_21\"}, \"end_time_utc\": \"2021-02-12T13:42:29.508471Z\", \"status\": \"Completed\", \"log_files\": {}, \"log_groups\": [], \"run_duration\": \"0:36:24\"}, \"child_runs\": [{\"run_id\": \"AutoML_225e7448-e7f7-40b2-a650-a845f51ff110_0\", \"run_number\": 6, \"metric\": null, \"status\": \"Completed\", \"run_type\": \"azureml.scriptrun\", \"training_percent\": \"100\", \"start_time\": \"2021-02-12T13:27:00.557515Z\", \"end_time\": \"2021-02-12T13:27:57.613656Z\", \"created_time\": \"2021-02-12T13:19:23.666609Z\", \"created_time_dt\": \"2021-02-12T13:19:23.666609Z\", \"duration\": \"0:08:33\", \"iteration\": \"0\", \"goal\": \"accuracy_max\", \"run_name\": \"MaxAbsScaler, LightGBM\", \"run_properties\": \"copy=True\", \"primary_metric\": 0.80036918, \"best_metric\": 0.80036918}, {\"run_id\": \"AutoML_225e7448-e7f7-40b2-a650-a845f51ff110_3\", \"run_number\": 7, \"metric\": null, \"status\": \"Completed\", \"run_type\": \"azureml.scriptrun\", \"training_percent\": \"100\", \"start_time\": \"2021-02-12T13:27:56.80726Z\", \"end_time\": \"2021-02-12T13:28:59.366426Z\", \"created_time\": \"2021-02-12T13:19:23.775697Z\", \"created_time_dt\": \"2021-02-12T13:19:23.775697Z\", \"duration\": \"0:09:35\", \"iteration\": \"3\", \"goal\": \"accuracy_max\", \"run_name\": \"MaxAbsScaler, RandomForest\", \"run_properties\": \"copy=True\", \"primary_metric\": 0.78886985, \"best_metric\": 0.8042035}, {\"run_id\": \"AutoML_225e7448-e7f7-40b2-a650-a845f51ff110_2\", \"run_number\": 8, \"metric\": null, \"status\": \"Completed\", \"run_type\": \"azureml.scriptrun\", \"training_percent\": \"100\", \"start_time\": \"2021-02-12T13:28:34.045196Z\", \"end_time\": \"2021-02-12T13:31:58.587133Z\", \"created_time\": \"2021-02-12T13:19:23.784694Z\", \"created_time_dt\": \"2021-02-12T13:19:23.784694Z\", \"duration\": \"0:12:34\", \"iteration\": \"2\", \"goal\": \"accuracy_max\", \"run_name\": \"MaxAbsScaler, RandomForest\", \"run_properties\": \"copy=True\", \"primary_metric\": 0.79043214, \"best_metric\": 0.8042035}, {\"run_id\": \"AutoML_225e7448-e7f7-40b2-a650-a845f51ff110_1\", \"run_number\": 9, \"metric\": null, \"status\": \"Completed\", \"run_type\": \"azureml.scriptrun\", \"training_percent\": \"100\", \"start_time\": \"2021-02-12T13:29:05.498802Z\", \"end_time\": \"2021-02-12T13:30:02.782724Z\", \"created_time\": \"2021-02-12T13:19:23.828322Z\", \"created_time_dt\": \"2021-02-12T13:19:23.828322Z\", \"duration\": \"0:10:38\", \"iteration\": \"1\", \"goal\": \"accuracy_max\", \"run_name\": \"MaxAbsScaler, XGBoostClassifier\", \"run_properties\": \"copy=True\", \"primary_metric\": 0.8042035, \"best_metric\": 0.8042035}, {\"run_id\": \"AutoML_225e7448-e7f7-40b2-a650-a845f51ff110_4\", \"run_number\": 10, \"metric\": null, \"status\": \"Completed\", \"run_type\": \"azureml.scriptrun\", \"training_percent\": \"100\", \"start_time\": \"2021-02-12T13:30:03.574734Z\", \"end_time\": \"2021-02-12T13:31:00.625288Z\", \"created_time\": \"2021-02-12T13:27:59.781628Z\", \"created_time_dt\": \"2021-02-12T13:27:59.781628Z\", \"duration\": \"0:03:00\", \"iteration\": \"4\", \"goal\": \"accuracy_max\", \"run_name\": \"MaxAbsScaler, RandomForest\", \"run_properties\": \"copy=True\", \"primary_metric\": 0.74911174, \"best_metric\": 0.8042035}, {\"run_id\": \"AutoML_225e7448-e7f7-40b2-a650-a845f51ff110_5\", \"run_number\": 11, \"metric\": null, \"status\": \"Completed\", \"run_type\": \"azureml.scriptrun\", \"training_percent\": \"100\", \"start_time\": \"2021-02-12T13:31:01.084673Z\", \"end_time\": \"2021-02-12T13:31:52.332701Z\", \"created_time\": \"2021-02-12T13:29:02.917182Z\", \"created_time_dt\": \"2021-02-12T13:29:02.917182Z\", \"duration\": \"0:02:49\", \"iteration\": \"5\", \"goal\": \"accuracy_max\", \"run_name\": \"MaxAbsScaler, RandomForest\", \"run_properties\": \"copy=True\", \"primary_metric\": 0.71418055, \"best_metric\": 0.8042035}, {\"run_id\": \"AutoML_225e7448-e7f7-40b2-a650-a845f51ff110_6\", \"run_number\": 12, \"metric\": null, \"status\": \"Completed\", \"run_type\": \"azureml.scriptrun\", \"training_percent\": \"100\", \"start_time\": \"2021-02-12T13:31:58.434138Z\", \"end_time\": \"2021-02-12T13:32:56.470039Z\", \"created_time\": \"2021-02-12T13:30:06.855774Z\", \"created_time_dt\": \"2021-02-12T13:30:06.855774Z\", \"duration\": \"0:02:49\", \"iteration\": \"6\", \"goal\": \"accuracy_max\", \"run_name\": \"MaxAbsScaler, LightGBM\", \"run_properties\": \"copy=True\", \"primary_metric\": 0.73463147, \"best_metric\": 0.8042035}, {\"run_id\": \"AutoML_225e7448-e7f7-40b2-a650-a845f51ff110_7\", \"run_number\": 13, \"metric\": null, \"status\": \"Completed\", \"run_type\": \"azureml.scriptrun\", \"training_percent\": \"100\", \"start_time\": \"2021-02-12T13:32:58.014985Z\", \"end_time\": \"2021-02-12T13:34:00.879849Z\", \"created_time\": \"2021-02-12T13:31:04.107031Z\", \"created_time_dt\": \"2021-02-12T13:31:04.107031Z\", \"duration\": \"0:02:56\", \"iteration\": \"7\", \"goal\": \"accuracy_max\", \"run_name\": \"SparseNormalizer, XGBoostClassifier\", \"run_properties\": \"<azureml.automl.runtime.shared.model_wrappers.SparseNormalizer object at 0x7fd18bfbedd8\", \"primary_metric\": 0.79909299, \"best_metric\": 0.8042035}, {\"run_id\": \"AutoML_225e7448-e7f7-40b2-a650-a845f51ff110_8\", \"run_number\": 14, \"metric\": null, \"status\": \"Completed\", \"run_type\": \"azureml.scriptrun\", \"training_percent\": \"100\", \"start_time\": \"2021-02-12T13:33:31.830059Z\", \"end_time\": \"2021-02-12T13:34:49.159503Z\", \"created_time\": \"2021-02-12T13:31:55.536268Z\", \"created_time_dt\": \"2021-02-12T13:31:55.536268Z\", \"duration\": \"0:02:53\", \"iteration\": \"8\", \"goal\": \"accuracy_max\", \"run_name\": \"SparseNormalizer, XGBoostClassifier\", \"run_properties\": \"<azureml.automl.runtime.shared.model_wrappers.SparseNormalizer object at 0x7f058b29b2e8\", \"primary_metric\": 0.79540031, \"best_metric\": 0.8042035}, {\"run_id\": \"AutoML_225e7448-e7f7-40b2-a650-a845f51ff110_9\", \"run_number\": 15, \"metric\": null, \"status\": \"Completed\", \"run_type\": \"azureml.scriptrun\", \"training_percent\": \"100\", \"start_time\": \"2021-02-12T13:34:06.051544Z\", \"end_time\": \"2021-02-12T13:35:12.538364Z\", \"created_time\": \"2021-02-12T13:32:02.458983Z\", \"created_time_dt\": \"2021-02-12T13:32:02.458983Z\", \"duration\": \"0:03:10\", \"iteration\": \"9\", \"goal\": \"accuracy_max\", \"run_name\": \"SparseNormalizer, XGBoostClassifier\", \"run_properties\": \"<azureml.automl.runtime.shared.model_wrappers.SparseNormalizer object at 0x7f8826508e10\", \"primary_metric\": 0.79625208, \"best_metric\": 0.8042035}, {\"run_id\": \"AutoML_225e7448-e7f7-40b2-a650-a845f51ff110_10\", \"run_number\": 16, \"metric\": null, \"status\": \"Completed\", \"run_type\": \"azureml.scriptrun\", \"training_percent\": \"100\", \"start_time\": \"2021-02-12T13:34:49.664717Z\", \"end_time\": \"2021-02-12T13:35:52.837426Z\", \"created_time\": \"2021-02-12T13:32:58.688279Z\", \"created_time_dt\": \"2021-02-12T13:32:58.688279Z\", \"duration\": \"0:02:54\", \"iteration\": \"10\", \"goal\": \"accuracy_max\", \"run_name\": \"SparseNormalizer, XGBoostClassifier\", \"run_properties\": \"<azureml.automl.runtime.shared.model_wrappers.SparseNormalizer object at 0x7f54a01b45f8\", \"primary_metric\": 0.80264271, \"best_metric\": 0.8042035}, {\"run_id\": \"AutoML_225e7448-e7f7-40b2-a650-a845f51ff110_11\", \"run_number\": 17, \"metric\": null, \"status\": \"Completed\", \"run_type\": \"azureml.scriptrun\", \"training_percent\": \"100\", \"start_time\": \"2021-02-12T13:35:15.775946Z\", \"end_time\": \"2021-02-12T13:36:12.811277Z\", \"created_time\": \"2021-02-12T13:34:03.37657Z\", \"created_time_dt\": \"2021-02-12T13:34:03.37657Z\", \"duration\": \"0:02:09\", \"iteration\": \"11\", \"goal\": \"accuracy_max\", \"run_name\": \"StandardScalerWrapper, RandomForest\", \"run_properties\": \"<azureml.automl.runtime.shared.model_wrappers.StandardScalerWrapper object at 0x7f74204d3d68\", \"primary_metric\": 0.79142626, \"best_metric\": 0.8042035}, {\"run_id\": \"AutoML_225e7448-e7f7-40b2-a650-a845f51ff110_12\", \"run_number\": 18, \"metric\": null, \"status\": \"Completed\", \"run_type\": \"azureml.scriptrun\", \"training_percent\": \"100\", \"start_time\": \"2021-02-12T13:35:56.848848Z\", \"end_time\": \"2021-02-12T13:36:54.473293Z\", \"created_time\": \"2021-02-12T13:34:51.840476Z\", \"created_time_dt\": \"2021-02-12T13:34:51.840476Z\", \"duration\": \"0:02:02\", \"iteration\": \"12\", \"goal\": \"accuracy_max\", \"run_name\": \"SparseNormalizer, XGBoostClassifier\", \"run_properties\": \"<azureml.automl.runtime.shared.model_wrappers.SparseNormalizer object at 0x7fc531dd5588\", \"primary_metric\": 0.79326983, \"best_metric\": 0.8042035}, {\"run_id\": \"AutoML_225e7448-e7f7-40b2-a650-a845f51ff110_13\", \"run_number\": 19, \"metric\": null, \"status\": \"Completed\", \"run_type\": \"azureml.scriptrun\", \"training_percent\": \"100\", \"start_time\": \"2021-02-12T13:36:15.42777Z\", \"end_time\": \"2021-02-12T13:37:14.009753Z\", \"created_time\": \"2021-02-12T13:35:14.696342Z\", \"created_time_dt\": \"2021-02-12T13:35:14.696342Z\", \"duration\": \"0:01:59\", \"iteration\": \"13\", \"goal\": \"accuracy_max\", \"run_name\": \"SparseNormalizer, LightGBM\", \"run_properties\": \"<azureml.automl.runtime.shared.model_wrappers.SparseNormalizer object at 0x7f1f3d279358\", \"primary_metric\": 0.80562476, \"best_metric\": 0.80562476}, {\"run_id\": \"AutoML_225e7448-e7f7-40b2-a650-a845f51ff110_14\", \"run_number\": 20, \"metric\": null, \"status\": \"Completed\", \"run_type\": \"azureml.scriptrun\", \"training_percent\": \"100\", \"start_time\": \"2021-02-12T13:36:54.678716Z\", \"end_time\": \"2021-02-12T13:37:55.66103Z\", \"created_time\": \"2021-02-12T13:35:55.506553Z\", \"created_time_dt\": \"2021-02-12T13:35:55.506553Z\", \"duration\": \"0:02:00\", \"iteration\": \"14\", \"goal\": \"accuracy_max\", \"run_name\": \"StandardScalerWrapper, ExtremeRandomTrees\", \"run_properties\": \"<azureml.automl.runtime.shared.model_wrappers.StandardScalerWrapper object at 0x7fcd2d1e2240\", \"primary_metric\": 0.79412341, \"best_metric\": 0.80562476}, {\"run_id\": \"AutoML_225e7448-e7f7-40b2-a650-a845f51ff110_15\", \"run_number\": 21, \"metric\": null, \"status\": \"Completed\", \"run_type\": \"azureml.scriptrun\", \"training_percent\": \"100\", \"start_time\": \"2021-02-12T13:37:20.004601Z\", \"end_time\": \"2021-02-12T13:38:19.219111Z\", \"created_time\": \"2021-02-12T13:36:15.110953Z\", \"created_time_dt\": \"2021-02-12T13:36:15.110953Z\", \"duration\": \"0:02:04\", \"iteration\": \"15\", \"goal\": \"accuracy_max\", \"run_name\": \"MaxAbsScaler, LogisticRegression\", \"run_properties\": \"copy=True\", \"primary_metric\": 0.80406236, \"best_metric\": 0.80562476}, {\"run_id\": \"AutoML_225e7448-e7f7-40b2-a650-a845f51ff110_16\", \"run_number\": 22, \"metric\": null, \"status\": \"Completed\", \"run_type\": \"azureml.scriptrun\", \"training_percent\": \"100\", \"start_time\": \"2021-02-12T13:38:02.23608Z\", \"end_time\": \"2021-02-12T13:39:05.410265Z\", \"created_time\": \"2021-02-12T13:36:56.812749Z\", \"created_time_dt\": \"2021-02-12T13:36:56.812749Z\", \"duration\": \"0:02:08\", \"iteration\": \"16\", \"goal\": \"accuracy_max\", \"run_name\": \"MaxAbsScaler, LightGBM\", \"run_properties\": \"copy=True\", \"primary_metric\": 0.8000864, \"best_metric\": 0.80562476}, {\"run_id\": \"AutoML_225e7448-e7f7-40b2-a650-a845f51ff110_17\", \"run_number\": 23, \"metric\": null, \"status\": \"Completed\", \"run_type\": \"azureml.scriptrun\", \"training_percent\": \"100\", \"start_time\": \"2021-02-12T13:38:21.725715Z\", \"end_time\": \"2021-02-12T13:39:21.703875Z\", \"created_time\": \"2021-02-12T13:37:16.408248Z\", \"created_time_dt\": \"2021-02-12T13:37:16.408248Z\", \"duration\": \"0:02:05\", \"iteration\": \"17\", \"goal\": \"accuracy_max\", \"run_name\": \"MaxAbsScaler, RandomForest\", \"run_properties\": \"copy=True\", \"primary_metric\": 0.78730835, \"best_metric\": 0.80562476}, {\"run_id\": \"AutoML_225e7448-e7f7-40b2-a650-a845f51ff110_18\", \"run_number\": 24, \"metric\": null, \"status\": \"Canceled\", \"run_type\": \"azureml.scriptrun\", \"training_percent\": \"100\", \"start_time\": \"2021-02-12T13:39:09.670006Z\", \"end_time\": \"2021-02-12T13:39:32.026351Z\", \"created_time\": \"2021-02-12T13:37:57.970574Z\", \"created_time_dt\": \"2021-02-12T13:37:57.970574Z\", \"duration\": \"0:01:34\", \"iteration\": \"18\", \"goal\": null, \"run_name\": \"Canceled\", \"run_properties\": null}, {\"run_id\": \"AutoML_225e7448-e7f7-40b2-a650-a845f51ff110_19\", \"run_number\": 25, \"metric\": null, \"status\": \"Canceled\", \"run_type\": \"azureml.scriptrun\", \"training_percent\": \"100\", \"start_time\": \"2021-02-12T13:38:21.380115Z\", \"end_time\": \"2021-02-12T13:39:31.205514Z\", \"created_time\": \"2021-02-12T13:38:21.380115Z\", \"created_time_dt\": \"2021-02-12T13:38:21.380115Z\", \"duration\": \"0:01:09\", \"iteration\": \"19\", \"goal\": null, \"run_name\": \"Canceled\", \"run_properties\": null}, {\"run_id\": \"AutoML_225e7448-e7f7-40b2-a650-a845f51ff110_20\", \"run_number\": 26, \"metric\": null, \"status\": \"Canceled\", \"run_type\": \"azureml.scriptrun\", \"training_percent\": \"100\", \"start_time\": \"2021-02-12T13:39:07.752429Z\", \"end_time\": \"2021-02-12T13:39:30.976048Z\", \"created_time\": \"2021-02-12T13:39:07.752429Z\", \"created_time_dt\": \"2021-02-12T13:39:07.752429Z\", \"duration\": \"0:00:23\", \"iteration\": \"20\", \"goal\": null, \"run_name\": \"Canceled\", \"run_properties\": null}, {\"run_id\": \"AutoML_225e7448-e7f7-40b2-a650-a845f51ff110_21\", \"run_number\": 27, \"metric\": null, \"status\": \"Completed\", \"run_type\": \"azureml.scriptrun\", \"training_percent\": \"100\", \"start_time\": \"2021-02-12T13:39:46.237992Z\", \"end_time\": \"2021-02-12T13:41:10.659299Z\", \"created_time\": \"2021-02-12T13:39:33.642762Z\", \"created_time_dt\": \"2021-02-12T13:39:33.642762Z\", \"duration\": \"0:01:37\", \"iteration\": \"21\", \"goal\": \"accuracy_max\", \"run_name\": \"VotingEnsemble\", \"run_properties\": \"classification_labels=None,\\n                              estimators=[('13',\\n                                           Pipeline(memory=None,\\n                                                    steps=[('sparsenormalizer',\\n                                                            <azureml.automl.runtime.shared.model_wrappers.SparseNormalizer object at 0x7f90b47c8748>\", \"primary_metric\": 0.80931633, \"best_metric\": 0.80931633}, {\"run_id\": \"AutoML_225e7448-e7f7-40b2-a650-a845f51ff110_22\", \"run_number\": 28, \"metric\": null, \"status\": \"Completed\", \"run_type\": \"azureml.scriptrun\", \"training_percent\": \"100\", \"start_time\": \"2021-02-12T13:39:49.012386Z\", \"end_time\": \"2021-02-12T13:42:19.335887Z\", \"created_time\": \"2021-02-12T13:39:33.759479Z\", \"created_time_dt\": \"2021-02-12T13:39:33.759479Z\", \"duration\": \"0:02:45\", \"iteration\": \"22\", \"goal\": \"accuracy_max\", \"run_name\": \"StackEnsemble\", \"run_properties\": \"base_learners=[('13',\\n                                        Pipeline(memory=None,\\n                                                 steps=[('sparsenormalizer',\\n                                                         <azureml.automl.runtime.shared.model_wrappers.SparseNormalizer object at 0x7fcbfb5bb2e8>\", \"primary_metric\": 0.80548271, \"best_metric\": 0.80931633}], \"children_metrics\": {\"categories\": [0], \"series\": {\"AUC_micro\": [{\"categories\": [\"0\", \"1\", \"2\", \"3\", \"4\", \"5\", \"6\", \"7\", \"8\", \"9\", \"10\", \"11\", \"12\", \"13\", \"14\", \"15\", \"16\", \"17\", \"21\", \"22\"], \"mode\": \"markers\", \"name\": \"AUC_micro\", \"stepped\": false, \"type\": \"scatter\", \"data\": [0.8853343625833723, 0.8911602104502755, 0.8830898558947954, 0.8802362059682517, 0.838337425574017, 0.8168809878276878, 0.8671922156137206, 0.8868104053422879, 0.8827919234745497, 0.8850654542630789, 0.8881795624353561, 0.8852515598037499, 0.8808139077241759, 0.890095359255197, 0.8805676162789611, 0.8895630724410566, 0.8867089088584702, 0.8780714320053569, 0.8929514138774506, 0.8925678530509206]}, {\"categories\": [\"0\", \"1\", \"2\", \"3\", \"4\", \"5\", \"6\", \"7\", \"8\", \"9\", \"10\", \"11\", \"12\", \"13\", \"14\", \"15\", \"16\", \"17\", \"21\", \"22\"], \"mode\": \"lines\", \"name\": \"AUC_micro_max\", \"stepped\": true, \"type\": \"scatter\", \"data\": [0.8853343625833723, 0.8911602104502755, 0.8911602104502755, 0.8911602104502755, 0.8911602104502755, 0.8911602104502755, 0.8911602104502755, 0.8911602104502755, 0.8911602104502755, 0.8911602104502755, 0.8911602104502755, 0.8911602104502755, 0.8911602104502755, 0.8911602104502755, 0.8911602104502755, 0.8911602104502755, 0.8911602104502755, 0.8911602104502755, 0.8929514138774506, 0.8929514138774506]}], \"f1_score_weighted\": [{\"categories\": [\"0\", \"1\", \"2\", \"3\", \"4\", \"5\", \"6\", \"7\", \"8\", \"9\", \"10\", \"11\", \"12\", \"13\", \"14\", \"15\", \"16\", \"17\", \"21\", \"22\"], \"mode\": \"markers\", \"name\": \"f1_score_weighted\", \"stepped\": false, \"type\": \"scatter\", \"data\": [0.7935974339180658, 0.7965371956641596, 0.7711044329012111, 0.7633835542110924, 0.7620667826666645, 0.7304636181374768, 0.6222761407321106, 0.791350556919923, 0.7875916192486266, 0.7888090857668306, 0.7943699970791521, 0.7707150630903264, 0.7791752816268478, 0.7977684255071318, 0.7781184855532294, 0.7982789395600335, 0.7825616868352038, 0.7560189157043798, 0.8008333135826516, 0.797489006318095]}, {\"categories\": [\"0\", \"1\", \"2\", \"3\", \"4\", \"5\", \"6\", \"7\", \"8\", \"9\", \"10\", \"11\", \"12\", \"13\", \"14\", \"15\", \"16\", \"17\", \"21\", \"22\"], \"mode\": \"lines\", \"name\": \"f1_score_weighted_max\", \"stepped\": true, \"type\": \"scatter\", \"data\": [0.7935974339180658, 0.7965371956641596, 0.7965371956641596, 0.7965371956641596, 0.7965371956641596, 0.7965371956641596, 0.7965371956641596, 0.7965371956641596, 0.7965371956641596, 0.7965371956641596, 0.7965371956641596, 0.7965371956641596, 0.7965371956641596, 0.7977684255071318, 0.7977684255071318, 0.7982789395600335, 0.7982789395600335, 0.7982789395600335, 0.8008333135826516, 0.8008333135826516]}], \"recall_score_macro\": [{\"categories\": [\"0\", \"1\", \"2\", \"3\", \"4\", \"5\", \"6\", \"7\", \"8\", \"9\", \"10\", \"11\", \"12\", \"13\", \"14\", \"15\", \"16\", \"17\", \"21\", \"22\"], \"mode\": \"markers\", \"name\": \"recall_score_macro\", \"stepped\": false, \"type\": \"scatter\", \"data\": [0.7152383606852943, 0.7162018283436333, 0.6676385027617975, 0.6527355774489105, 0.7624225297100949, 0.7443311617023556, 0.5, 0.7101840236007015, 0.7056370034746633, 0.7078165448474356, 0.7123988359414737, 0.665064634611442, 0.6839775432152251, 0.7173777811086289, 0.6802530265295791, 0.7231606798999696, 0.6815861147085648, 0.6383943191183942, 0.7192804416787397, 0.7169867148824214]}, {\"categories\": [\"0\", \"1\", \"2\", \"3\", \"4\", \"5\", \"6\", \"7\", \"8\", \"9\", \"10\", \"11\", \"12\", \"13\", \"14\", \"15\", \"16\", \"17\", \"21\", \"22\"], \"mode\": \"lines\", \"name\": \"recall_score_macro_max\", \"stepped\": true, \"type\": \"scatter\", \"data\": [0.7152383606852943, 0.7162018283436333, 0.7162018283436333, 0.7162018283436333, 0.7624225297100949, 0.7624225297100949, 0.7624225297100949, 0.7624225297100949, 0.7624225297100949, 0.7624225297100949, 0.7624225297100949, 0.7624225297100949, 0.7624225297100949, 0.7624225297100949, 0.7624225297100949, 0.7624225297100949, 0.7624225297100949, 0.7624225297100949, 0.7624225297100949, 0.7624225297100949]}], \"norm_macro_recall\": [{\"categories\": [\"0\", \"1\", \"2\", \"3\", \"4\", \"5\", \"6\", \"7\", \"8\", \"9\", \"10\", \"11\", \"12\", \"13\", \"14\", \"15\", \"16\", \"17\", \"21\", \"22\"], \"mode\": \"markers\", \"name\": \"norm_macro_recall\", \"stepped\": false, \"type\": \"scatter\", \"data\": [0.4304767213705887, 0.43240365668726655, 0.335277005523595, 0.3054711548978211, 0.5248450594201899, 0.48866232340471105, 0.0, 0.42036804720140336, 0.41127400694932675, 0.4156330896948711, 0.42479767188294737, 0.3301292692228842, 0.36795508643045016, 0.4347555622172578, 0.36050605305915817, 0.4463213597999392, 0.36317222941712957, 0.27678863823678845, 0.43856088335747945, 0.4339734297648426]}, {\"categories\": [\"0\", \"1\", \"2\", \"3\", \"4\", \"5\", \"6\", \"7\", \"8\", \"9\", \"10\", \"11\", \"12\", \"13\", \"14\", \"15\", \"16\", \"17\", \"21\", \"22\"], \"mode\": \"lines\", \"name\": \"norm_macro_recall_max\", \"stepped\": true, \"type\": \"scatter\", \"data\": [0.4304767213705887, 0.43240365668726655, 0.43240365668726655, 0.43240365668726655, 0.5248450594201899, 0.5248450594201899, 0.5248450594201899, 0.5248450594201899, 0.5248450594201899, 0.5248450594201899, 0.5248450594201899, 0.5248450594201899, 0.5248450594201899, 0.5248450594201899, 0.5248450594201899, 0.5248450594201899, 0.5248450594201899, 0.5248450594201899, 0.5248450594201899, 0.5248450594201899]}], \"precision_score_weighted\": [{\"categories\": [\"0\", \"1\", \"2\", \"3\", \"4\", \"5\", \"6\", \"7\", \"8\", \"9\", \"10\", \"11\", \"12\", \"13\", \"14\", \"15\", \"16\", \"17\", \"21\", \"22\"], \"mode\": \"markers\", \"name\": \"precision_score_weighted\", \"stepped\": false, \"type\": \"scatter\", \"data\": [0.7914387117867767, 0.794758572768712, 0.7767046380447765, 0.776249320443161, 0.8037744348483216, 0.7938610705738912, 0.5397629819321962, 0.7892669475977361, 0.7853466676733188, 0.7868735616968399, 0.7929705579509315, 0.7776843402082998, 0.7804702840322194, 0.7961748762364836, 0.7811456072790504, 0.7962340793636248, 0.7882715960000601, 0.776739663906599, 0.7999100195435476, 0.7962318085582729]}, {\"categories\": [\"0\", \"1\", \"2\", \"3\", \"4\", \"5\", \"6\", \"7\", \"8\", \"9\", \"10\", \"11\", \"12\", \"13\", \"14\", \"15\", \"16\", \"17\", \"21\", \"22\"], \"mode\": \"lines\", \"name\": \"precision_score_weighted_max\", \"stepped\": true, \"type\": \"scatter\", \"data\": [0.7914387117867767, 0.794758572768712, 0.794758572768712, 0.794758572768712, 0.8037744348483216, 0.8037744348483216, 0.8037744348483216, 0.8037744348483216, 0.8037744348483216, 0.8037744348483216, 0.8037744348483216, 0.8037744348483216, 0.8037744348483216, 0.8037744348483216, 0.8037744348483216, 0.8037744348483216, 0.8037744348483216, 0.8037744348483216, 0.8037744348483216, 0.8037744348483216]}], \"f1_score_macro\": [{\"categories\": [\"0\", \"1\", \"2\", \"3\", \"4\", \"5\", \"6\", \"7\", \"8\", \"9\", \"10\", \"11\", \"12\", \"13\", \"14\", \"15\", \"16\", \"17\", \"21\", \"22\"], \"mode\": \"markers\", \"name\": \"f1_score_macro\", \"stepped\": false, \"type\": \"scatter\", \"data\": [0.7273011169225866, 0.7301264188159609, 0.686382231959805, 0.6712388858937445, 0.7183420646240349, 0.6888097331230882, 0.42349339779318085, 0.7233927165221599, 0.718489775709604, 0.720384964843034, 0.7267547894196474, 0.6845410067393485, 0.7014269245209312, 0.7315301718926402, 0.6985235105039127, 0.7343368776096039, 0.7025379846887929, 0.656540187245109, 0.7348625464914171, 0.7311445829884349]}, {\"categories\": [\"0\", \"1\", \"2\", \"3\", \"4\", \"5\", \"6\", \"7\", \"8\", \"9\", \"10\", \"11\", \"12\", \"13\", \"14\", \"15\", \"16\", \"17\", \"21\", \"22\"], \"mode\": \"lines\", \"name\": \"f1_score_macro_max\", \"stepped\": true, \"type\": \"scatter\", \"data\": [0.7273011169225866, 0.7301264188159609, 0.7301264188159609, 0.7301264188159609, 0.7301264188159609, 0.7301264188159609, 0.7301264188159609, 0.7301264188159609, 0.7301264188159609, 0.7301264188159609, 0.7301264188159609, 0.7301264188159609, 0.7301264188159609, 0.7315301718926402, 0.7315301718926402, 0.7343368776096039, 0.7343368776096039, 0.7343368776096039, 0.7348625464914171, 0.7348625464914171]}], \"accuracy\": [{\"categories\": [\"0\", \"1\", \"2\", \"3\", \"4\", \"5\", \"6\", \"7\", \"8\", \"9\", \"10\", \"11\", \"12\", \"13\", \"14\", \"15\", \"16\", \"17\", \"21\", \"22\"], \"mode\": \"markers\", \"name\": \"accuracy\", \"stepped\": false, \"type\": \"scatter\", \"data\": [0.8003691770436803, 0.8042034969998063, 0.7904321448157946, 0.7888698464417059, 0.7491117370475514, 0.7141805519710949, 0.7346314681592361, 0.799092985837796, 0.7954003080843927, 0.7962520767468868, 0.8026427108200529, 0.7914262613717014, 0.7932698278921221, 0.8056247580489064, 0.7941234111878186, 0.8040623588618621, 0.8000863967030132, 0.7873083545712627, 0.8093163268597975, 0.8054827125943609]}, {\"categories\": [\"0\", \"1\", \"2\", \"3\", \"4\", \"5\", \"6\", \"7\", \"8\", \"9\", \"10\", \"11\", \"12\", \"13\", \"14\", \"15\", \"16\", \"17\", \"21\", \"22\"], \"mode\": \"lines\", \"name\": \"accuracy_max\", \"stepped\": true, \"type\": \"scatter\", \"data\": [0.8003691770436803, 0.8042034969998063, 0.8042034969998063, 0.8042034969998063, 0.8042034969998063, 0.8042034969998063, 0.8042034969998063, 0.8042034969998063, 0.8042034969998063, 0.8042034969998063, 0.8042034969998063, 0.8042034969998063, 0.8042034969998063, 0.8056247580489064, 0.8056247580489064, 0.8056247580489064, 0.8056247580489064, 0.8056247580489064, 0.8093163268597975, 0.8093163268597975]}], \"recall_score_micro\": [{\"categories\": [\"0\", \"1\", \"2\", \"3\", \"4\", \"5\", \"6\", \"7\", \"8\", \"9\", \"10\", \"11\", \"12\", \"13\", \"14\", \"15\", \"16\", \"17\", \"21\", \"22\"], \"mode\": \"markers\", \"name\": \"recall_score_micro\", \"stepped\": false, \"type\": \"scatter\", \"data\": [0.8003691770436803, 0.8042034969998063, 0.7904321448157946, 0.7888698464417059, 0.7491117370475514, 0.7141805519710949, 0.7346314681592361, 0.799092985837796, 0.7954003080843927, 0.7962520767468868, 0.8026427108200529, 0.7914262613717014, 0.7932698278921221, 0.8056247580489064, 0.7941234111878186, 0.8040623588618621, 0.8000863967030132, 0.7873083545712627, 0.8093163268597975, 0.8054827125943609]}, {\"categories\": [\"0\", \"1\", \"2\", \"3\", \"4\", \"5\", \"6\", \"7\", \"8\", \"9\", \"10\", \"11\", \"12\", \"13\", \"14\", \"15\", \"16\", \"17\", \"21\", \"22\"], \"mode\": \"lines\", \"name\": \"recall_score_micro_max\", \"stepped\": true, \"type\": \"scatter\", \"data\": [0.8003691770436803, 0.8042034969998063, 0.8042034969998063, 0.8042034969998063, 0.8042034969998063, 0.8042034969998063, 0.8042034969998063, 0.8042034969998063, 0.8042034969998063, 0.8042034969998063, 0.8042034969998063, 0.8042034969998063, 0.8042034969998063, 0.8056247580489064, 0.8056247580489064, 0.8056247580489064, 0.8056247580489064, 0.8056247580489064, 0.8093163268597975, 0.8093163268597975]}], \"matthews_correlation\": [{\"categories\": [\"0\", \"1\", \"2\", \"3\", \"4\", \"5\", \"6\", \"7\", \"8\", \"9\", \"10\", \"11\", \"12\", \"13\", \"14\", \"15\", \"16\", \"17\", \"21\", \"22\"], \"mode\": \"markers\", \"name\": \"matthews_correlation\", \"stepped\": false, \"type\": \"scatter\", \"data\": [0.4605393997243709, 0.467809041708119, 0.40463001706245133, 0.39106622408854774, 0.47198309436795033, 0.43413130605881206, 0.0, 0.45404748972181697, 0.4441168258005388, 0.4477973145151447, 0.4622959629992197, 0.40452835366887363, 0.4225257324934336, 0.47109123582055024, 0.4214290837204843, 0.4734512762382674, 0.4348363598978392, 0.3791044660567605, 0.4794080606696457, 0.47089658447633065]}, {\"categories\": [\"0\", \"1\", \"2\", \"3\", \"4\", \"5\", \"6\", \"7\", \"8\", \"9\", \"10\", \"11\", \"12\", \"13\", \"14\", \"15\", \"16\", \"17\", \"21\", \"22\"], \"mode\": \"lines\", \"name\": \"matthews_correlation_max\", \"stepped\": true, \"type\": \"scatter\", \"data\": [0.4605393997243709, 0.467809041708119, 0.467809041708119, 0.467809041708119, 0.47198309436795033, 0.47198309436795033, 0.47198309436795033, 0.47198309436795033, 0.47198309436795033, 0.47198309436795033, 0.47198309436795033, 0.47198309436795033, 0.47198309436795033, 0.47198309436795033, 0.47198309436795033, 0.4734512762382674, 0.4734512762382674, 0.4734512762382674, 0.4794080606696457, 0.4794080606696457]}], \"AUC_macro\": [{\"categories\": [\"0\", \"1\", \"2\", \"3\", \"4\", \"5\", \"6\", \"7\", \"8\", \"9\", \"10\", \"11\", \"12\", \"13\", \"14\", \"15\", \"16\", \"17\", \"21\", \"22\"], \"mode\": \"markers\", \"name\": \"AUC_macro\", \"stepped\": false, \"type\": \"scatter\", \"data\": [0.8381069064325064, 0.8471863191129865, 0.8380667995933647, 0.8365928293413958, 0.8438338969152875, 0.8251302283824437, 0.8400320924809318, 0.840918217076753, 0.835466013212443, 0.8387322760469766, 0.8431453598000296, 0.8413337218319, 0.8329406655878031, 0.8457042022928366, 0.8328955285743994, 0.8459716973193465, 0.845216247894583, 0.8385927061439317, 0.8503873424624363, 0.8500994356598811]}, {\"categories\": [\"0\", \"1\", \"2\", \"3\", \"4\", \"5\", \"6\", \"7\", \"8\", \"9\", \"10\", \"11\", \"12\", \"13\", \"14\", \"15\", \"16\", \"17\", \"21\", \"22\"], \"mode\": \"lines\", \"name\": \"AUC_macro_max\", \"stepped\": true, \"type\": \"scatter\", \"data\": [0.8381069064325064, 0.8471863191129865, 0.8471863191129865, 0.8471863191129865, 0.8471863191129865, 0.8471863191129865, 0.8471863191129865, 0.8471863191129865, 0.8471863191129865, 0.8471863191129865, 0.8471863191129865, 0.8471863191129865, 0.8471863191129865, 0.8471863191129865, 0.8471863191129865, 0.8471863191129865, 0.8471863191129865, 0.8471863191129865, 0.8503873424624363, 0.8503873424624363]}], \"average_precision_score_macro\": [{\"categories\": [\"0\", \"1\", \"2\", \"3\", \"4\", \"5\", \"6\", \"7\", \"8\", \"9\", \"10\", \"11\", \"12\", \"13\", \"14\", \"15\", \"16\", \"17\", \"21\", \"22\"], \"mode\": \"markers\", \"name\": \"average_precision_score_macro\", \"stepped\": false, \"type\": \"scatter\", \"data\": [0.7924458555290206, 0.8005065008964918, 0.7843101108879733, 0.783733331466904, 0.7937358702942706, 0.7637805456440143, 0.7856367134451275, 0.79480574600603, 0.785273054990479, 0.790022012893896, 0.7940776662469418, 0.791387140848555, 0.7774900572651204, 0.7996031400961552, 0.7804385475466071, 0.7964344986029028, 0.7950227948668103, 0.7850232947585594, 0.8038329659572003, 0.8033449462316284]}, {\"categories\": [\"0\", \"1\", \"2\", \"3\", \"4\", \"5\", \"6\", \"7\", \"8\", \"9\", \"10\", \"11\", \"12\", \"13\", \"14\", \"15\", \"16\", \"17\", \"21\", \"22\"], \"mode\": \"lines\", \"name\": \"average_precision_score_macro_max\", \"stepped\": true, \"type\": \"scatter\", \"data\": [0.7924458555290206, 0.8005065008964918, 0.8005065008964918, 0.8005065008964918, 0.8005065008964918, 0.8005065008964918, 0.8005065008964918, 0.8005065008964918, 0.8005065008964918, 0.8005065008964918, 0.8005065008964918, 0.8005065008964918, 0.8005065008964918, 0.8005065008964918, 0.8005065008964918, 0.8005065008964918, 0.8005065008964918, 0.8005065008964918, 0.8038329659572003, 0.8038329659572003]}], \"precision_score_micro\": [{\"categories\": [\"0\", \"1\", \"2\", \"3\", \"4\", \"5\", \"6\", \"7\", \"8\", \"9\", \"10\", \"11\", \"12\", \"13\", \"14\", \"15\", \"16\", \"17\", \"21\", \"22\"], \"mode\": \"markers\", \"name\": \"precision_score_micro\", \"stepped\": false, \"type\": \"scatter\", \"data\": [0.8003691770436803, 0.8042034969998063, 0.7904321448157946, 0.7888698464417059, 0.7491117370475514, 0.7141805519710949, 0.7346314681592361, 0.799092985837796, 0.7954003080843927, 0.7962520767468868, 0.8026427108200529, 0.7914262613717014, 0.7932698278921221, 0.8056247580489064, 0.7941234111878186, 0.8040623588618621, 0.8000863967030132, 0.7873083545712627, 0.8093163268597975, 0.8054827125943609]}, {\"categories\": [\"0\", \"1\", \"2\", \"3\", \"4\", \"5\", \"6\", \"7\", \"8\", \"9\", \"10\", \"11\", \"12\", \"13\", \"14\", \"15\", \"16\", \"17\", \"21\", \"22\"], \"mode\": \"lines\", \"name\": \"precision_score_micro_max\", \"stepped\": true, \"type\": \"scatter\", \"data\": [0.8003691770436803, 0.8042034969998063, 0.8042034969998063, 0.8042034969998063, 0.8042034969998063, 0.8042034969998063, 0.8042034969998063, 0.8042034969998063, 0.8042034969998063, 0.8042034969998063, 0.8042034969998063, 0.8042034969998063, 0.8042034969998063, 0.8056247580489064, 0.8056247580489064, 0.8056247580489064, 0.8056247580489064, 0.8056247580489064, 0.8093163268597975, 0.8093163268597975]}], \"average_precision_score_micro\": [{\"categories\": [\"0\", \"1\", \"2\", \"3\", \"4\", \"5\", \"6\", \"7\", \"8\", \"9\", \"10\", \"11\", \"12\", \"13\", \"14\", \"15\", \"16\", \"17\", \"21\", \"22\"], \"mode\": \"markers\", \"name\": \"average_precision_score_micro\", \"stepped\": false, \"type\": \"scatter\", \"data\": [0.8863048204992368, 0.8919474426839464, 0.8848363186464141, 0.8819988877765933, 0.8420112748685422, 0.8224659867611352, 0.8699229255545531, 0.8887189930703403, 0.8838709381124904, 0.8863174326433942, 0.8887546720373007, 0.8871282990533231, 0.8793391165821784, 0.8909865798166049, 0.8825468760332033, 0.890918465553803, 0.8883019568153131, 0.8808815280756516, 0.8942798556495799, 0.8940404178061916]}, {\"categories\": [\"0\", \"1\", \"2\", \"3\", \"4\", \"5\", \"6\", \"7\", \"8\", \"9\", \"10\", \"11\", \"12\", \"13\", \"14\", \"15\", \"16\", \"17\", \"21\", \"22\"], \"mode\": \"lines\", \"name\": \"average_precision_score_micro_max\", \"stepped\": true, \"type\": \"scatter\", \"data\": [0.8863048204992368, 0.8919474426839464, 0.8919474426839464, 0.8919474426839464, 0.8919474426839464, 0.8919474426839464, 0.8919474426839464, 0.8919474426839464, 0.8919474426839464, 0.8919474426839464, 0.8919474426839464, 0.8919474426839464, 0.8919474426839464, 0.8919474426839464, 0.8919474426839464, 0.8919474426839464, 0.8919474426839464, 0.8919474426839464, 0.8942798556495799, 0.8942798556495799]}], \"average_precision_score_weighted\": [{\"categories\": [\"0\", \"1\", \"2\", \"3\", \"4\", \"5\", \"6\", \"7\", \"8\", \"9\", \"10\", \"11\", \"12\", \"13\", \"14\", \"15\", \"16\", \"17\", \"21\", \"22\"], \"mode\": \"markers\", \"name\": \"average_precision_score_weighted\", \"stepped\": false, \"type\": \"scatter\", \"data\": [0.8582509059507133, 0.8643997818802125, 0.8544354040462387, 0.853610984197102, 0.860400502774634, 0.8401646278126871, 0.8541599114449177, 0.8607039844845288, 0.8540516687845701, 0.8573525206741331, 0.8600516487559025, 0.8588922316937457, 0.8481017508433801, 0.8637148411647957, 0.8514407552662424, 0.8623009073813337, 0.8614296152078573, 0.8550540464514622, 0.8672027546118162, 0.8669406927575707]}, {\"categories\": [\"0\", \"1\", \"2\", \"3\", \"4\", \"5\", \"6\", \"7\", \"8\", \"9\", \"10\", \"11\", \"12\", \"13\", \"14\", \"15\", \"16\", \"17\", \"21\", \"22\"], \"mode\": \"lines\", \"name\": \"average_precision_score_weighted_max\", \"stepped\": true, \"type\": \"scatter\", \"data\": [0.8582509059507133, 0.8643997818802125, 0.8643997818802125, 0.8643997818802125, 0.8643997818802125, 0.8643997818802125, 0.8643997818802125, 0.8643997818802125, 0.8643997818802125, 0.8643997818802125, 0.8643997818802125, 0.8643997818802125, 0.8643997818802125, 0.8643997818802125, 0.8643997818802125, 0.8643997818802125, 0.8643997818802125, 0.8643997818802125, 0.8672027546118162, 0.8672027546118162]}], \"recall_score_weighted\": [{\"categories\": [\"0\", \"1\", \"2\", \"3\", \"4\", \"5\", \"6\", \"7\", \"8\", \"9\", \"10\", \"11\", \"12\", \"13\", \"14\", \"15\", \"16\", \"17\", \"21\", \"22\"], \"mode\": \"markers\", \"name\": \"recall_score_weighted\", \"stepped\": false, \"type\": \"scatter\", \"data\": [0.8003691770436803, 0.8042034969998063, 0.7904321448157946, 0.7888698464417059, 0.7491117370475514, 0.7141805519710949, 0.7346314681592361, 0.799092985837796, 0.7954003080843927, 0.7962520767468868, 0.8026427108200529, 0.7914262613717014, 0.7932698278921221, 0.8056247580489064, 0.7941234111878186, 0.8040623588618621, 0.8000863967030132, 0.7873083545712627, 0.8093163268597975, 0.8054827125943609]}, {\"categories\": [\"0\", \"1\", \"2\", \"3\", \"4\", \"5\", \"6\", \"7\", \"8\", \"9\", \"10\", \"11\", \"12\", \"13\", \"14\", \"15\", \"16\", \"17\", \"21\", \"22\"], \"mode\": \"lines\", \"name\": \"recall_score_weighted_max\", \"stepped\": true, \"type\": \"scatter\", \"data\": [0.8003691770436803, 0.8042034969998063, 0.8042034969998063, 0.8042034969998063, 0.8042034969998063, 0.8042034969998063, 0.8042034969998063, 0.8042034969998063, 0.8042034969998063, 0.8042034969998063, 0.8042034969998063, 0.8042034969998063, 0.8042034969998063, 0.8056247580489064, 0.8056247580489064, 0.8056247580489064, 0.8056247580489064, 0.8056247580489064, 0.8093163268597975, 0.8093163268597975]}], \"precision_score_macro\": [{\"categories\": [\"0\", \"1\", \"2\", \"3\", \"4\", \"5\", \"6\", \"7\", \"8\", \"9\", \"10\", \"11\", \"12\", \"13\", \"14\", \"15\", \"16\", \"17\", \"21\", \"22\"], \"mode\": \"markers\", \"name\": \"precision_score_macro\", \"stepped\": false, \"type\": \"scatter\", \"data\": [0.7464340488837837, 0.753080685360511, 0.7446119467940572, 0.7512195898197858, 0.7122483006069176, 0.6928764461725703, 0.36731573407961804, 0.7452500914378105, 0.7398274427995845, 0.7413201140217458, 0.7516342980954931, 0.7480858719635874, 0.7428368543231093, 0.7552914667717436, 0.7467476344272217, 0.7511790955732986, 0.7603767404362546, 0.7596730071710927, 0.762097108637492, 0.755620870116866]}, {\"categories\": [\"0\", \"1\", \"2\", \"3\", \"4\", \"5\", \"6\", \"7\", \"8\", \"9\", \"10\", \"11\", \"12\", \"13\", \"14\", \"15\", \"16\", \"17\", \"21\", \"22\"], \"mode\": \"lines\", \"name\": \"precision_score_macro_max\", \"stepped\": true, \"type\": \"scatter\", \"data\": [0.7464340488837837, 0.753080685360511, 0.753080685360511, 0.753080685360511, 0.753080685360511, 0.753080685360511, 0.753080685360511, 0.753080685360511, 0.753080685360511, 0.753080685360511, 0.753080685360511, 0.753080685360511, 0.753080685360511, 0.7552914667717436, 0.7552914667717436, 0.7552914667717436, 0.7603767404362546, 0.7603767404362546, 0.762097108637492, 0.762097108637492]}], \"weighted_accuracy\": [{\"categories\": [\"0\", \"1\", \"2\", \"3\", \"4\", \"5\", \"6\", \"7\", \"8\", \"9\", \"10\", \"11\", \"12\", \"13\", \"14\", \"15\", \"16\", \"17\", \"21\", \"22\"], \"mode\": \"markers\", \"name\": \"weighted_accuracy\", \"stepped\": false, \"type\": \"scatter\", \"data\": [0.8546795285913564, 0.8603698885743516, 0.8689008428356928, 0.8759056572948563, 0.7406307563608495, 0.6951252773495054, 0.8843475799853783, 0.8558456458377108, 0.8527071302598467, 0.8527529916039794, 0.8603077487388131, 0.8721030171847, 0.8630978412918342, 0.8619612339999149, 0.8668947328641943, 0.8557311398942767, 0.8757140905156138, 0.8823287440627998, 0.8668215440391828, 0.8620575683702618]}, {\"categories\": [\"0\", \"1\", \"2\", \"3\", \"4\", \"5\", \"6\", \"7\", \"8\", \"9\", \"10\", \"11\", \"12\", \"13\", \"14\", \"15\", \"16\", \"17\", \"21\", \"22\"], \"mode\": \"lines\", \"name\": \"weighted_accuracy_max\", \"stepped\": true, \"type\": \"scatter\", \"data\": [0.8546795285913564, 0.8603698885743516, 0.8689008428356928, 0.8759056572948563, 0.8759056572948563, 0.8759056572948563, 0.8843475799853783, 0.8843475799853783, 0.8843475799853783, 0.8843475799853783, 0.8843475799853783, 0.8843475799853783, 0.8843475799853783, 0.8843475799853783, 0.8843475799853783, 0.8843475799853783, 0.8843475799853783, 0.8843475799853783, 0.8843475799853783, 0.8843475799853783]}], \"balanced_accuracy\": [{\"categories\": [\"0\", \"1\", \"2\", \"3\", \"4\", \"5\", \"6\", \"7\", \"8\", \"9\", \"10\", \"11\", \"12\", \"13\", \"14\", \"15\", \"16\", \"17\", \"21\", \"22\"], \"mode\": \"markers\", \"name\": \"balanced_accuracy\", \"stepped\": false, \"type\": \"scatter\", \"data\": [0.7152383606852943, 0.7162018283436333, 0.6676385027617975, 0.6527355774489105, 0.7624225297100949, 0.7443311617023556, 0.5, 0.7101840236007015, 0.7056370034746633, 0.7078165448474356, 0.7123988359414737, 0.665064634611442, 0.6839775432152251, 0.7173777811086289, 0.6802530265295791, 0.7231606798999696, 0.6815861147085648, 0.6383943191183942, 0.7192804416787397, 0.7169867148824214]}, {\"categories\": [\"0\", \"1\", \"2\", \"3\", \"4\", \"5\", \"6\", \"7\", \"8\", \"9\", \"10\", \"11\", \"12\", \"13\", \"14\", \"15\", \"16\", \"17\", \"21\", \"22\"], \"mode\": \"lines\", \"name\": \"balanced_accuracy_max\", \"stepped\": true, \"type\": \"scatter\", \"data\": [0.7152383606852943, 0.7162018283436333, 0.7162018283436333, 0.7162018283436333, 0.7624225297100949, 0.7624225297100949, 0.7624225297100949, 0.7624225297100949, 0.7624225297100949, 0.7624225297100949, 0.7624225297100949, 0.7624225297100949, 0.7624225297100949, 0.7624225297100949, 0.7624225297100949, 0.7624225297100949, 0.7624225297100949, 0.7624225297100949, 0.7624225297100949, 0.7624225297100949]}], \"log_loss\": [{\"categories\": [\"0\", \"1\", \"2\", \"3\", \"4\", \"5\", \"6\", \"7\", \"8\", \"9\", \"10\", \"11\", \"12\", \"13\", \"14\", \"15\", \"16\", \"17\", \"21\", \"22\"], \"mode\": \"markers\", \"name\": \"log_loss\", \"stepped\": false, \"type\": \"scatter\", \"data\": [0.42989677411932287, 0.41395152283581427, 0.4289914469672838, 0.4361649390078859, 0.49206392518420505, 0.5400421303182401, 0.5014737544958205, 0.42280098501738655, 0.4304883355441631, 0.4288172855276751, 0.4728637759529205, 0.4258372413425883, 0.4956104987747813, 0.417497104876542, 0.4330562395392684, 0.4166916333578496, 0.4287887405047851, 0.44207043171802846, 0.42813699818168544, 0.41786910884268985]}, {\"categories\": [\"0\", \"1\", \"2\", \"3\", \"4\", \"5\", \"6\", \"7\", \"8\", \"9\", \"10\", \"11\", \"12\", \"13\", \"14\", \"15\", \"16\", \"17\", \"21\", \"22\"], \"mode\": \"lines\", \"name\": \"log_loss_min\", \"stepped\": true, \"type\": \"scatter\", \"data\": [0.42989677411932287, 0.41395152283581427, 0.41395152283581427, 0.41395152283581427, 0.41395152283581427, 0.41395152283581427, 0.41395152283581427, 0.41395152283581427, 0.41395152283581427, 0.41395152283581427, 0.41395152283581427, 0.41395152283581427, 0.41395152283581427, 0.41395152283581427, 0.41395152283581427, 0.41395152283581427, 0.41395152283581427, 0.41395152283581427, 0.41395152283581427, 0.41395152283581427]}], \"f1_score_micro\": [{\"categories\": [\"0\", \"1\", \"2\", \"3\", \"4\", \"5\", \"6\", \"7\", \"8\", \"9\", \"10\", \"11\", \"12\", \"13\", \"14\", \"15\", \"16\", \"17\", \"21\", \"22\"], \"mode\": \"markers\", \"name\": \"f1_score_micro\", \"stepped\": false, \"type\": \"scatter\", \"data\": [0.8003691770436803, 0.8042034969998063, 0.7904321448157946, 0.7888698464417059, 0.7491117370475514, 0.7141805519710949, 0.7346314681592361, 0.799092985837796, 0.7954003080843925, 0.7962520767468868, 0.8026427108200529, 0.7914262613717014, 0.7932698278921221, 0.8056247580489064, 0.7941234111878185, 0.8040623588618621, 0.8000863967030132, 0.7873083545712627, 0.8093163268597975, 0.8054827125943609]}, {\"categories\": [\"0\", \"1\", \"2\", \"3\", \"4\", \"5\", \"6\", \"7\", \"8\", \"9\", \"10\", \"11\", \"12\", \"13\", \"14\", \"15\", \"16\", \"17\", \"21\", \"22\"], \"mode\": \"lines\", \"name\": \"f1_score_micro_max\", \"stepped\": true, \"type\": \"scatter\", \"data\": [0.8003691770436803, 0.8042034969998063, 0.8042034969998063, 0.8042034969998063, 0.8042034969998063, 0.8042034969998063, 0.8042034969998063, 0.8042034969998063, 0.8042034969998063, 0.8042034969998063, 0.8042034969998063, 0.8042034969998063, 0.8042034969998063, 0.8056247580489064, 0.8056247580489064, 0.8056247580489064, 0.8056247580489064, 0.8056247580489064, 0.8093163268597975, 0.8093163268597975]}], \"AUC_weighted\": [{\"categories\": [\"0\", \"1\", \"2\", \"3\", \"4\", \"5\", \"6\", \"7\", \"8\", \"9\", \"10\", \"11\", \"12\", \"13\", \"14\", \"15\", \"16\", \"17\", \"21\", \"22\"], \"mode\": \"markers\", \"name\": \"AUC_weighted\", \"stepped\": false, \"type\": \"scatter\", \"data\": [0.8381069064325064, 0.8471863191129867, 0.8380667995933646, 0.8365928293413957, 0.8438338969152875, 0.8251302283824437, 0.8400320924809318, 0.840918217076753, 0.835466013212443, 0.8387323398794108, 0.8431453598000298, 0.8413337218319, 0.8329406655878031, 0.8457042022928366, 0.8328955285743994, 0.8459716973193467, 0.845216247894583, 0.8385927061439317, 0.8503873424624363, 0.8500994356598813]}, {\"categories\": [\"0\", \"1\", \"2\", \"3\", \"4\", \"5\", \"6\", \"7\", \"8\", \"9\", \"10\", \"11\", \"12\", \"13\", \"14\", \"15\", \"16\", \"17\", \"21\", \"22\"], \"mode\": \"lines\", \"name\": \"AUC_weighted_max\", \"stepped\": true, \"type\": \"scatter\", \"data\": [0.8381069064325064, 0.8471863191129867, 0.8471863191129867, 0.8471863191129867, 0.8471863191129867, 0.8471863191129867, 0.8471863191129867, 0.8471863191129867, 0.8471863191129867, 0.8471863191129867, 0.8471863191129867, 0.8471863191129867, 0.8471863191129867, 0.8471863191129867, 0.8471863191129867, 0.8471863191129867, 0.8471863191129867, 0.8471863191129867, 0.8503873424624363, 0.8503873424624363]}]}, \"metricName\": null, \"primaryMetricName\": \"accuracy\", \"showLegend\": false}, \"run_metrics\": [{\"name\": \"experiment_status\", \"run_id\": \"AutoML_225e7448-e7f7-40b2-a650-a845f51ff110\", \"categories\": [0, 1, 2, 3, 4, 5, 6, 7, 8, 9, 10, 11, 12, 13], \"series\": [{\"data\": [\"DatasetEvaluation\", \"FeaturesGeneration\", \"DatasetFeaturization\", \"DatasetFeaturizationCompleted\", \"DatasetCrossValidationSplit\", \"ModelSelection\", \"BestRunExplainModel\", \"ModelExplanationDataSetSetup\", \"PickSurrogateModel\", \"EngineeredFeatureExplanations\", \"EngineeredFeatureExplanations\", \"RawFeaturesExplanations\", \"RawFeaturesExplanations\", \"BestRunExplainModel\"]}]}, {\"name\": \"experiment_status_description\", \"run_id\": \"AutoML_225e7448-e7f7-40b2-a650-a845f51ff110\", \"categories\": [0, 1, 2, 3, 4, 5, 6, 7, 8, 9, 10, 11, 12, 13], \"series\": [{\"data\": [\"Gathering dataset statistics.\", \"Generating features for the dataset.\", \"Beginning to fit featurizers and featurize the dataset.\", \"Completed fit featurizers and featurizing the dataset.\", \"Generating individually featurized CV splits.\", \"Beginning model selection.\", \"Best run model explanations started\", \"Model explanations data setup completed\", \"Choosing LightGBM as the surrogate model for explanations\", \"Computation of engineered features started\", \"Computation of engineered features completed\", \"Computation of raw features started\", \"Computation of raw features completed\", \"Best run model explanations completed\"]}]}, {\"name\": \"recall_score_weighted\", \"run_id\": \"AutoML_225e7448-e7f7-40b2-a650-a845f51ff110\", \"categories\": [0], \"series\": [{\"data\": [0.8093163268597975]}]}, {\"name\": \"average_precision_score_macro\", \"run_id\": \"AutoML_225e7448-e7f7-40b2-a650-a845f51ff110\", \"categories\": [0], \"series\": [{\"data\": [0.8038329659572003]}]}, {\"name\": \"recall_score_macro\", \"run_id\": \"AutoML_225e7448-e7f7-40b2-a650-a845f51ff110\", \"categories\": [0], \"series\": [{\"data\": [0.7192804416787397]}]}, {\"name\": \"average_precision_score_weighted\", \"run_id\": \"AutoML_225e7448-e7f7-40b2-a650-a845f51ff110\", \"categories\": [0], \"series\": [{\"data\": [0.8672027546118162]}]}, {\"name\": \"log_loss\", \"run_id\": \"AutoML_225e7448-e7f7-40b2-a650-a845f51ff110\", \"categories\": [0], \"series\": [{\"data\": [0.42813699818168544]}]}, {\"name\": \"norm_macro_recall\", \"run_id\": \"AutoML_225e7448-e7f7-40b2-a650-a845f51ff110\", \"categories\": [0], \"series\": [{\"data\": [0.43856088335747945]}]}, {\"name\": \"precision_score_weighted\", \"run_id\": \"AutoML_225e7448-e7f7-40b2-a650-a845f51ff110\", \"categories\": [0], \"series\": [{\"data\": [0.7999100195435476]}]}, {\"name\": \"matthews_correlation\", \"run_id\": \"AutoML_225e7448-e7f7-40b2-a650-a845f51ff110\", \"categories\": [0], \"series\": [{\"data\": [0.4794080606696457]}]}, {\"name\": \"f1_score_macro\", \"run_id\": \"AutoML_225e7448-e7f7-40b2-a650-a845f51ff110\", \"categories\": [0], \"series\": [{\"data\": [0.7348625464914171]}]}, {\"name\": \"AUC_weighted\", \"run_id\": \"AutoML_225e7448-e7f7-40b2-a650-a845f51ff110\", \"categories\": [0], \"series\": [{\"data\": [0.8503873424624363]}]}, {\"name\": \"precision_score_macro\", \"run_id\": \"AutoML_225e7448-e7f7-40b2-a650-a845f51ff110\", \"categories\": [0], \"series\": [{\"data\": [0.762097108637492]}]}, {\"name\": \"recall_score_micro\", \"run_id\": \"AutoML_225e7448-e7f7-40b2-a650-a845f51ff110\", \"categories\": [0], \"series\": [{\"data\": [0.8093163268597975]}]}, {\"name\": \"precision_score_micro\", \"run_id\": \"AutoML_225e7448-e7f7-40b2-a650-a845f51ff110\", \"categories\": [0], \"series\": [{\"data\": [0.8093163268597975]}]}, {\"name\": \"weighted_accuracy\", \"run_id\": \"AutoML_225e7448-e7f7-40b2-a650-a845f51ff110\", \"categories\": [0], \"series\": [{\"data\": [0.8668215440391828]}]}, {\"name\": \"f1_score_micro\", \"run_id\": \"AutoML_225e7448-e7f7-40b2-a650-a845f51ff110\", \"categories\": [0], \"series\": [{\"data\": [0.8093163268597975]}]}, {\"name\": \"AUC_macro\", \"run_id\": \"AutoML_225e7448-e7f7-40b2-a650-a845f51ff110\", \"categories\": [0], \"series\": [{\"data\": [0.8503873424624363]}]}, {\"name\": \"balanced_accuracy\", \"run_id\": \"AutoML_225e7448-e7f7-40b2-a650-a845f51ff110\", \"categories\": [0], \"series\": [{\"data\": [0.7192804416787397]}]}, {\"name\": \"accuracy\", \"run_id\": \"AutoML_225e7448-e7f7-40b2-a650-a845f51ff110\", \"categories\": [0], \"series\": [{\"data\": [0.8093163268597975]}]}, {\"name\": \"f1_score_weighted\", \"run_id\": \"AutoML_225e7448-e7f7-40b2-a650-a845f51ff110\", \"categories\": [0], \"series\": [{\"data\": [0.8008333135826516]}]}, {\"name\": \"AUC_micro\", \"run_id\": \"AutoML_225e7448-e7f7-40b2-a650-a845f51ff110\", \"categories\": [0], \"series\": [{\"data\": [0.8929514138774506]}]}, {\"name\": \"average_precision_score_micro\", \"run_id\": \"AutoML_225e7448-e7f7-40b2-a650-a845f51ff110\", \"categories\": [0], \"series\": [{\"data\": [0.8942798556495799]}]}], \"run_logs\": \"\\nRun is completed.\", \"graph\": {}, \"widget_settings\": {\"childWidgetDisplay\": \"popup\", \"send_telemetry\": false, \"log_level\": \"INFO\", \"sdk_version\": \"1.20.0\"}, \"loading\": false}"
          },
          "metadata": {}
        },
        {
          "output_type": "stream",
          "name": "stdout",
          "text": [
            "\n"
          ]
        }
      ],
      "execution_count": 11,
      "metadata": {
        "gather": {
          "logged": 1598431121770
        },
        "jupyter": {
          "outputs_hidden": false,
          "source_hidden": false
        },
        "nteract": {
          "transient": {
            "deleting": false
          }
        }
      }
    },
    {
      "cell_type": "markdown",
      "source": [
        "## Best Model\n",
        "\n",
        "TODO: In the cell below, get the best model from the automl experiments and display all the properties of the model.\n",
        "\n"
      ],
      "metadata": {}
    },
    {
      "cell_type": "code",
      "source": [
        "best_run, fitted_model = remote_run.get_output()\n",
        "best_metrics = best_run.get_metrics()\n",
        "print(best_run)\n"
      ],
      "outputs": [
        {
          "output_type": "stream",
          "name": "stderr",
          "text": [
            "WARNING:root:The version of the SDK does not match the version the model was trained on.\n",
            "WARNING:root:The consistency in the result may not be guaranteed.\n",
            "WARNING:root:Package:azureml-automl-core, training version:1.21.0, current version:1.20.0\n",
            "Package:azureml-automl-runtime, training version:1.21.0, current version:1.20.0\n",
            "Package:azureml-core, training version:1.21.0.post1, current version:1.20.0\n",
            "Package:azureml-dataprep, training version:2.8.2, current version:2.7.3\n",
            "Package:azureml-dataprep-native, training version:28.0.0, current version:27.0.0\n",
            "Package:azureml-dataprep-rslex, training version:1.6.0, current version:1.5.0\n",
            "Package:azureml-dataset-runtime, training version:1.21.0, current version:1.20.0\n",
            "Package:azureml-defaults, training version:1.21.0, current version:1.20.0\n",
            "Package:azureml-interpret, training version:1.21.0, current version:1.20.0\n",
            "Package:azureml-pipeline-core, training version:1.21.0, current version:1.20.0\n",
            "Package:azureml-telemetry, training version:1.21.0, current version:1.20.0\n",
            "Package:azureml-train-automl-client, training version:1.21.0, current version:1.20.0\n",
            "Package:azureml-train-automl-runtime, training version:1.21.0, current version:1.20.0\n",
            "WARNING:root:Please ensure the version of your local conda dependencies match the version on which your model was trained in order to properly retrieve your model.\n"
          ]
        },
        {
          "output_type": "stream",
          "name": "stdout",
          "text": [
            "Run(Experiment: Udacity-exp-p3,\n",
            "Id: AutoML_225e7448-e7f7-40b2-a650-a845f51ff110_21,\n",
            "Type: azureml.scriptrun,\n",
            "Status: Completed)\n"
          ]
        }
      ],
      "execution_count": 13,
      "metadata": {
        "gather": {
          "logged": 1613140258903
        },
        "jupyter": {
          "outputs_hidden": false,
          "source_hidden": false
        },
        "nteract": {
          "transient": {
            "deleting": false
          }
        }
      }
    },
    {
      "cell_type": "code",
      "source": [
        "best_run"
      ],
      "outputs": [
        {
          "output_type": "execute_result",
          "execution_count": 15,
          "data": {
            "text/plain": "Run(Experiment: Udacity-exp-p3,\nId: AutoML_225e7448-e7f7-40b2-a650-a845f51ff110_21,\nType: azureml.scriptrun,\nStatus: Completed)",
            "text/html": "<table style=\"width:100%\"><tr><th>Experiment</th><th>Id</th><th>Type</th><th>Status</th><th>Details Page</th><th>Docs Page</th></tr><tr><td>Udacity-exp-p3</td><td>AutoML_225e7448-e7f7-40b2-a650-a845f51ff110_21</td><td>azureml.scriptrun</td><td>Completed</td><td><a href=\"https://ml.azure.com/experiments/Udacity-exp-p3/runs/AutoML_225e7448-e7f7-40b2-a650-a845f51ff110_21?wsid=/subscriptions/d7f39349-a66b-446e-aba6-0053c2cf1c11/resourcegroups/aml-quickstarts-138685/workspaces/quick-starts-ws-138685\" target=\"_blank\" rel=\"noopener\">Link to Azure Machine Learning studio</a></td><td><a href=\"https://docs.microsoft.com/en-us/python/api/azureml-core/azureml.core.run.Run?view=azure-ml-py\" target=\"_blank\" rel=\"noopener\">Link to Documentation</a></td></tr></table>"
          },
          "metadata": {}
        }
      ],
      "execution_count": 15,
      "metadata": {
        "collapsed": true,
        "jupyter": {
          "source_hidden": false,
          "outputs_hidden": false
        },
        "nteract": {
          "transient": {
            "deleting": false
          }
        },
        "gather": {
          "logged": 1613140338886
        }
      }
    },
    {
      "cell_type": "code",
      "source": [
        "fitted_model"
      ],
      "outputs": [
        {
          "output_type": "execute_result",
          "execution_count": 16,
          "data": {
            "text/plain": "PipelineWithYTransformations(Pipeline={'memory': None,\n                                       'steps': [('datatransformer',\n                                                  DataTransformer(enable_dnn=None,\n                                                                  enable_feature_sweeping=None,\n                                                                  feature_sweeping_config=None,\n                                                                  feature_sweeping_timeout=None,\n                                                                  featurization_config=None,\n                                                                  force_text_dnn=None,\n                                                                  is_cross_validation=None,\n                                                                  is_onnx_compatible=None,\n                                                                  logger=None,\n                                                                  observer=None,\n                                                                  task=None,\n                                                                  working_dir=None))...\n                                                                                                                                     min_weight_fraction_leaf=0.0,\n                                                                                                                                     n_estimators=10,\n                                                                                                                                     n_jobs=1,\n                                                                                                                                     oob_score=False,\n                                                                                                                                     random_state=None,\n                                                                                                                                     verbose=0,\n                                                                                                                                     warm_start=False))],\n                                                                                                      verbose=False))],\n                                                                                flatten_transform=None,\n                                                                                weights=[0.15384615384615385,\n                                                                                         0.15384615384615385,\n                                                                                         0.15384615384615385,\n                                                                                         0.3076923076923077,\n                                                                                         0.07692307692307693,\n                                                                                         0.07692307692307693,\n                                                                                         0.07692307692307693]))],\n                                       'verbose': False},\n                             y_transformer={},\n                             y_transformer_name='LabelEncoder')"
          },
          "metadata": {}
        }
      ],
      "execution_count": 16,
      "metadata": {
        "gather": {
          "logged": 1613140371767
        }
      }
    },
    {
      "cell_type": "code",
      "source": [
        "best_metrics"
      ],
      "outputs": [
        {
          "output_type": "execute_result",
          "execution_count": 17,
          "data": {
            "text/plain": "{'average_precision_score_micro': 0.8942798556495799,\n 'AUC_micro': 0.8929514138774506,\n 'precision_score_micro': 0.8093163268597975,\n 'f1_score_weighted': 0.8008333135826516,\n 'accuracy': 0.8093163268597975,\n 'average_precision_score_macro': 0.8038329659572003,\n 'weighted_accuracy': 0.8668215440391828,\n 'balanced_accuracy': 0.7192804416787397,\n 'matthews_correlation': 0.4794080606696457,\n 'log_loss': 0.42813699818168544,\n 'f1_score_macro': 0.7348625464914171,\n 'recall_score_micro': 0.8093163268597975,\n 'average_precision_score_weighted': 0.8672027546118162,\n 'recall_score_macro': 0.7192804416787397,\n 'f1_score_micro': 0.8093163268597975,\n 'AUC_macro': 0.8503873424624363,\n 'recall_score_weighted': 0.8093163268597975,\n 'AUC_weighted': 0.8503873424624363,\n 'norm_macro_recall': 0.43856088335747945,\n 'precision_score_weighted': 0.7999100195435476,\n 'precision_score_macro': 0.762097108637492,\n 'accuracy_table': 'aml://artifactId/ExperimentRun/dcid.AutoML_225e7448-e7f7-40b2-a650-a845f51ff110_21/accuracy_table',\n 'confusion_matrix': 'aml://artifactId/ExperimentRun/dcid.AutoML_225e7448-e7f7-40b2-a650-a845f51ff110_21/confusion_matrix'}"
          },
          "metadata": {}
        }
      ],
      "execution_count": 17,
      "metadata": {
        "gather": {
          "logged": 1613140393333
        }
      }
    },
    {
      "cell_type": "code",
      "source": [
        "import joblib \n",
        "\n",
        "#best_run, fit_model = remote_run.get_output()\n",
        "\n",
        "joblib.dump(value=fitted_model, filename=\"./BestAutoMLmodel.pkl\")"
      ],
      "outputs": [
        {
          "output_type": "execute_result",
          "execution_count": 21,
          "data": {
            "text/plain": "['./output/BestAutoMLmodel.pkl']"
          },
          "metadata": {}
        }
      ],
      "execution_count": 21,
      "metadata": {
        "gather": {
          "logged": 1613140482980
        }
      }
    },
    {
      "cell_type": "markdown",
      "source": [
        "## Model Deployment\n",
        "\n",
        "Remember you have to deploy only one of the two models you trained.. Perform the steps in the rest of this notebook only if you wish to deploy this model.\n",
        "\n",
        "TODO: In the cell below, register the model, create an inference config and deploy the model as a web service."
      ],
      "metadata": {}
    },
    {
      "cell_type": "code",
      "source": [
        "script = './score.py'\n",
        "best_run.download_file('./outputs/scoring_file_v_1_0_0.py', './score.py')\n"
      ],
      "outputs": [],
      "execution_count": 34,
      "metadata": {
        "gather": {
          "logged": 1613141889109
        }
      }
    },
    {
      "cell_type": "code",
      "source": [
        "model = remote_run.register_model(model_name= 'BestAutoMLmodel')"
      ],
      "outputs": [],
      "execution_count": 37,
      "metadata": {
        "gather": {
          "logged": 1613142144418
        }
      }
    },
    {
      "cell_type": "code",
      "source": [
        "from azureml.core.model import InferenceConfig\n",
        "from  azureml.core.environment import Environment\n",
        "from azureml.core import Model\n",
        "from azureml.core.webservice import AciWebservice\n",
        "\n",
        "env = best_run.get_environment()    \n",
        "\n",
        "inference_config = InferenceConfig(entry_script=script,\n",
        "                                   environment=env)\n",
        "\n",
        "deployment_config =AciWebservice.deploy_configuration(cpu_cores = 1, \n",
        "                                               memory_gb = 1,\n",
        "                                               enable_app_insights=True,\n",
        "                                               auth_enabled=True,\n",
        "                                              )\n",
        "\n",
        "aservice = Model.deploy(ws, \"telcomdeploy\", [model], inference_config, deployment_config)\n",
        "aservice.wait_for_deployment(show_output = True)\n",
        "print(aservice.state)\n",
        "\n",
        "print(aservice.scoring_uri)\n",
        "\n",
        "pri_key, sec_key = aservice.get_keys()\n",
        "print(pri_key)"
      ],
      "outputs": [
        {
          "output_type": "stream",
          "name": "stdout",
          "text": [
            "Tips: You can try get_logs(): https://aka.ms/debugimage#dockerlog or local deployment: https://aka.ms/debugimage#debug-locally to debug if deployment takes longer than 10 minutes.\n",
            "Running....................................\n",
            "Succeeded\n",
            "ACI service creation operation finished, operation \"Succeeded\"\n",
            "Healthy\n",
            "http://3e517a9d-f6cd-435d-a5a4-94482adc2cf5.southcentralus.azurecontainer.io/score\n",
            "hZi5RJM9CQUAZbeynVztsPasEb392QOp\n"
          ]
        }
      ],
      "execution_count": 44,
      "metadata": {
        "gather": {
          "logged": 1613142669610
        },
        "jupyter": {
          "outputs_hidden": false,
          "source_hidden": false
        },
        "nteract": {
          "transient": {
            "deleting": false
          }
        }
      }
    },
    {
      "cell_type": "code",
      "source": [
        "print(aservice.scoring_uri)"
      ],
      "outputs": [
        {
          "output_type": "stream",
          "name": "stdout",
          "text": [
            "http://3e517a9d-f6cd-435d-a5a4-94482adc2cf5.southcentralus.azurecontainer.io/score\n"
          ]
        }
      ],
      "execution_count": 45,
      "metadata": {
        "gather": {
          "logged": 1613142995422
        }
      }
    },
    {
      "cell_type": "code",
      "source": [
        "#Select all columns BUT not the target=CHURN .\r\n",
        "\r\n",
        "test_df=df.iloc[:,:-1]\r\n",
        "test_df.columns"
      ],
      "outputs": [
        {
          "output_type": "execute_result",
          "execution_count": 73,
          "data": {
            "text/plain": "Index(['customerID', 'gender', 'SeniorCitizen', 'Partner', 'Dependents',\n       'tenure', 'PhoneService', 'MultipleLines', 'InternetService',\n       'OnlineSecurity', 'OnlineBackup', 'DeviceProtection', 'TechSupport',\n       'StreamingTV', 'StreamingMovies', 'Contract', 'PaperlessBilling',\n       'PaymentMethod', 'MonthlyCharges', 'TotalCharges'],\n      dtype='object')"
          },
          "metadata": {}
        }
      ],
      "execution_count": 73,
      "metadata": {
        "collapsed": true,
        "jupyter": {
          "source_hidden": false,
          "outputs_hidden": false
        },
        "nteract": {
          "transient": {
            "deleting": false
          }
        },
        "gather": {
          "logged": 1613145120070
        }
      }
    },
    {
      "cell_type": "markdown",
      "source": [
        "TODO: In the cell below, print the logs of the web service and delete the service"
      ],
      "metadata": {
        "collapsed": true,
        "gather": {
          "logged": 1598432765711
        },
        "jupyter": {
          "outputs_hidden": false,
          "source_hidden": false
        },
        "nteract": {
          "transient": {
            "deleting": false
          }
        }
      }
    },
    {
      "cell_type": "code",
      "source": [
        "import requests\n",
        "import json\n",
        "scoring_uri='http://3e517a9d-f6cd-435d-a5a4-94482adc2cf5.southcentralus.azurecontainer.io/score'\n",
        "primary,secondary = aservice.get_keys()\n",
        "key =primary\n",
        "headers = {'Content-Type': 'application/json'}\n",
        "# If authentication is enabled, set the authorization header\n",
        "\n",
        "#test_sample = json.dumps(data)\n",
        "\n",
        "input_data = json.dumps({\n",
        "    'data': test_df[0:5].to_dict(orient= 'records')\n",
        "})\n",
        "print(input_data)"
      ],
      "outputs": [
        {
          "output_type": "stream",
          "name": "stdout",
          "text": [
            "{\"data\": [{\"customerID\": \"7590-VHVEG\", \"gender\": \"Female\", \"SeniorCitizen\": 0, \"Partner\": true, \"Dependents\": false, \"tenure\": 1, \"PhoneService\": false, \"MultipleLines\": \"No phone service\", \"InternetService\": \"DSL\", \"OnlineSecurity\": \"No\", \"OnlineBackup\": \"Yes\", \"DeviceProtection\": \"No\", \"TechSupport\": \"No\", \"StreamingTV\": \"No\", \"StreamingMovies\": \"No\", \"Contract\": \"Month-to-month\", \"PaperlessBilling\": true, \"PaymentMethod\": \"Electronic check\", \"MonthlyCharges\": 29.85, \"TotalCharges\": 29.85}, {\"customerID\": \"5575-GNVDE\", \"gender\": \"Male\", \"SeniorCitizen\": 0, \"Partner\": false, \"Dependents\": false, \"tenure\": 34, \"PhoneService\": true, \"MultipleLines\": \"No\", \"InternetService\": \"DSL\", \"OnlineSecurity\": \"Yes\", \"OnlineBackup\": \"No\", \"DeviceProtection\": \"Yes\", \"TechSupport\": \"No\", \"StreamingTV\": \"No\", \"StreamingMovies\": \"No\", \"Contract\": \"One year\", \"PaperlessBilling\": false, \"PaymentMethod\": \"Mailed check\", \"MonthlyCharges\": 56.95, \"TotalCharges\": 1889.5}, {\"customerID\": \"3668-QPYBK\", \"gender\": \"Male\", \"SeniorCitizen\": 0, \"Partner\": false, \"Dependents\": false, \"tenure\": 2, \"PhoneService\": true, \"MultipleLines\": \"No\", \"InternetService\": \"DSL\", \"OnlineSecurity\": \"Yes\", \"OnlineBackup\": \"Yes\", \"DeviceProtection\": \"No\", \"TechSupport\": \"No\", \"StreamingTV\": \"No\", \"StreamingMovies\": \"No\", \"Contract\": \"Month-to-month\", \"PaperlessBilling\": true, \"PaymentMethod\": \"Mailed check\", \"MonthlyCharges\": 53.85, \"TotalCharges\": 108.15}, {\"customerID\": \"7795-CFOCW\", \"gender\": \"Male\", \"SeniorCitizen\": 0, \"Partner\": false, \"Dependents\": false, \"tenure\": 45, \"PhoneService\": false, \"MultipleLines\": \"No phone service\", \"InternetService\": \"DSL\", \"OnlineSecurity\": \"Yes\", \"OnlineBackup\": \"No\", \"DeviceProtection\": \"Yes\", \"TechSupport\": \"Yes\", \"StreamingTV\": \"No\", \"StreamingMovies\": \"No\", \"Contract\": \"One year\", \"PaperlessBilling\": false, \"PaymentMethod\": \"Bank transfer (automatic)\", \"MonthlyCharges\": 42.3, \"TotalCharges\": 1840.75}, {\"customerID\": \"9237-HQITU\", \"gender\": \"Female\", \"SeniorCitizen\": 0, \"Partner\": false, \"Dependents\": false, \"tenure\": 2, \"PhoneService\": true, \"MultipleLines\": \"No\", \"InternetService\": \"Fiber optic\", \"OnlineSecurity\": \"No\", \"OnlineBackup\": \"No\", \"DeviceProtection\": \"No\", \"TechSupport\": \"No\", \"StreamingTV\": \"No\", \"StreamingMovies\": \"No\", \"Contract\": \"Month-to-month\", \"PaperlessBilling\": true, \"PaymentMethod\": \"Electronic check\", \"MonthlyCharges\": 70.7, \"TotalCharges\": 151.65}]}\n"
          ]
        }
      ],
      "execution_count": 74,
      "metadata": {
        "gather": {
          "logged": 1613145139201
        }
      }
    },
    {
      "cell_type": "code",
      "source": [
        "headers['Authorization'] = f'Bearer {key}'\r\n",
        "response = requests.post(scoring_uri, input_data, headers=headers)\r\n",
        "output_data = response.text\r\n",
        "\r\n",
        "print(output_data)\r\n"
      ],
      "outputs": [
        {
          "output_type": "stream",
          "name": "stdout",
          "text": [
            "\"{\\\"result\\\": [true, false, false, false, true]}\"\n"
          ]
        }
      ],
      "execution_count": 75,
      "metadata": {
        "collapsed": true,
        "jupyter": {
          "source_hidden": false,
          "outputs_hidden": false
        },
        "nteract": {
          "transient": {
            "deleting": false
          }
        },
        "gather": {
          "logged": 1613145143938
        }
      }
    },
    {
      "cell_type": "code",
      "source": [
        "data = {\"data\":\r\n",
        "        [\r\n",
        "          {\r\n",
        "            \"CustomerID\":'7590-VHVEG',\r\n",
        "            \"gender\": 68,\r\n",
        "            \"SeniorCitizen\": 1,\r\n",
        "            \"Partner\":True ,\r\n",
        "            \"Dependents\": False,\r\n",
        "            \"tenure\": 1,\r\n",
        "            \"PhoneService\": True,\r\n",
        "            \"MultipleLines\": 'No',\r\n",
        "            \"InternetService\": 'DSL',\r\n",
        "            \"OnlineSecurity\": 'No',\r\n",
        "            \"OnlineBackup\": 'Yes',\r\n",
        "            \"DeviceProtection\": 'No',\r\n",
        "            \"TechSupport\": 'No',\r\n",
        "            \"StreamingTV\": 'No',\r\n",
        "            \"StreamingMovies\": 'No',\r\n",
        "            \"Contract\":'Month-to-month',\r\n",
        "            \"PaperlessBilling\":True,\r\n",
        "            \"PaymentMethod\":'Electronic check',\r\n",
        "            \"MonthlyCharges\":29.85,\r\n",
        "            \"TotalCharges\":29.85\r\n",
        "            \r\n",
        "          }\r\n",
        "      ]\r\n",
        "    }"
      ],
      "outputs": [],
      "execution_count": 77,
      "metadata": {
        "collapsed": true,
        "jupyter": {
          "source_hidden": false,
          "outputs_hidden": false
        },
        "nteract": {
          "transient": {
            "deleting": false
          }
        },
        "gather": {
          "logged": 1613146140287
        }
      }
    },
    {
      "cell_type": "code",
      "source": [
        "aservice.delete()\n",
        "print(\"Service deleted\")"
      ],
      "outputs": [],
      "execution_count": null,
      "metadata": {}
    },
    {
      "cell_type": "code",
      "source": [
        "compute_target.delete()\n",
        "print(\"Compute deleted\")"
      ],
      "outputs": [],
      "execution_count": null,
      "metadata": {}
    }
  ],
  "metadata": {
    "kernel_info": {
      "name": "python3"
    },
    "kernelspec": {
      "name": "python3",
      "language": "python",
      "display_name": "Python 3"
    },
    "language_info": {
      "name": "python",
      "version": "3.6.9",
      "mimetype": "text/x-python",
      "codemirror_mode": {
        "name": "ipython",
        "version": 3
      },
      "pygments_lexer": "ipython3",
      "nbconvert_exporter": "python",
      "file_extension": ".py"
    },
    "nteract": {
      "version": "nteract-front-end@1.0.0"
    }
  },
  "nbformat": 4,
  "nbformat_minor": 2
}